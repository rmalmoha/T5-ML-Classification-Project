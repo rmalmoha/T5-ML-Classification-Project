{
 "cells": [
  {
   "cell_type": "markdown",
   "id": "1c8c5c66",
   "metadata": {},
   "source": [
    "# Classification Project : \n",
    "### Predicting eleigable employee for promotion using multinational corporation HR data"
   ]
  },
  {
   "cell_type": "markdown",
   "id": "40ec6676",
   "metadata": {},
   "source": [
    "*** ***"
   ]
  },
  {
   "cell_type": "code",
   "execution_count": 61,
   "id": "8e89de2c",
   "metadata": {},
   "outputs": [],
   "source": [
    "import pandas as pd\n",
    "import seaborn as sns\n",
    "import numpy as np\n",
    "import matplotlib.pyplot as plt\n",
    "from sklearn.model_selection import train_test_split\n",
    "%matplotlib inline\n",
    "from sklearn.neighbors import KNeighborsClassifier\n",
    "from sklearn.linear_model import LogisticRegression\n",
    "from sklearn.tree import DecisionTreeClassifier\n",
    "from sklearn.model_selection import GridSearchCV\n",
    "from sklearn.ensemble import RandomForestClassifier, ExtraTreesClassifier, VotingClassifier\n",
    "from sklearn.metrics import accuracy_score\n",
    "from sklearn.metrics import confusion_matrix\n",
    "from sklearn.metrics import precision_score , recall_score, f1_score \n",
    "from sklearn import metrics\n"
   ]
  },
  {
   "cell_type": "code",
   "execution_count": 62,
   "id": "d2a10b4d",
   "metadata": {},
   "outputs": [],
   "source": [
    "from sklearn import linear_model, neighbors, ensemble"
   ]
  },
  {
   "cell_type": "code",
   "execution_count": 63,
   "id": "42f9eb63",
   "metadata": {},
   "outputs": [],
   "source": [
    "from sklearn.metrics import f1_score, roc_auc_score"
   ]
  },
  {
   "cell_type": "code",
   "execution_count": 64,
   "id": "378ef2af",
   "metadata": {},
   "outputs": [],
   "source": [
    "from sklearn.ensemble import GradientBoostingClassifier"
   ]
  },
  {
   "cell_type": "code",
   "execution_count": 5,
   "id": "9b57b8e9",
   "metadata": {},
   "outputs": [
    {
     "data": {
      "text/html": [
       "<div>\n",
       "<style scoped>\n",
       "    .dataframe tbody tr th:only-of-type {\n",
       "        vertical-align: middle;\n",
       "    }\n",
       "\n",
       "    .dataframe tbody tr th {\n",
       "        vertical-align: top;\n",
       "    }\n",
       "\n",
       "    .dataframe thead th {\n",
       "        text-align: right;\n",
       "    }\n",
       "</style>\n",
       "<table border=\"1\" class=\"dataframe\">\n",
       "  <thead>\n",
       "    <tr style=\"text-align: right;\">\n",
       "      <th></th>\n",
       "      <th>employee_id</th>\n",
       "      <th>department</th>\n",
       "      <th>region</th>\n",
       "      <th>education</th>\n",
       "      <th>gender</th>\n",
       "      <th>recruitment_channel</th>\n",
       "      <th>no_of_trainings</th>\n",
       "      <th>age</th>\n",
       "      <th>previous_year_rating</th>\n",
       "      <th>length_of_service</th>\n",
       "      <th>awards_won?</th>\n",
       "      <th>avg_training_score</th>\n",
       "      <th>is_promoted</th>\n",
       "    </tr>\n",
       "  </thead>\n",
       "  <tbody>\n",
       "    <tr>\n",
       "      <th>0</th>\n",
       "      <td>65438</td>\n",
       "      <td>Sales &amp; Marketing</td>\n",
       "      <td>region_7</td>\n",
       "      <td>Master's &amp; above</td>\n",
       "      <td>f</td>\n",
       "      <td>sourcing</td>\n",
       "      <td>1</td>\n",
       "      <td>35</td>\n",
       "      <td>5.0</td>\n",
       "      <td>8</td>\n",
       "      <td>0</td>\n",
       "      <td>49</td>\n",
       "      <td>0</td>\n",
       "    </tr>\n",
       "    <tr>\n",
       "      <th>1</th>\n",
       "      <td>65141</td>\n",
       "      <td>Operations</td>\n",
       "      <td>region_22</td>\n",
       "      <td>Bachelor's</td>\n",
       "      <td>m</td>\n",
       "      <td>other</td>\n",
       "      <td>1</td>\n",
       "      <td>30</td>\n",
       "      <td>5.0</td>\n",
       "      <td>4</td>\n",
       "      <td>0</td>\n",
       "      <td>60</td>\n",
       "      <td>0</td>\n",
       "    </tr>\n",
       "    <tr>\n",
       "      <th>2</th>\n",
       "      <td>7513</td>\n",
       "      <td>Sales &amp; Marketing</td>\n",
       "      <td>region_19</td>\n",
       "      <td>Bachelor's</td>\n",
       "      <td>m</td>\n",
       "      <td>sourcing</td>\n",
       "      <td>1</td>\n",
       "      <td>34</td>\n",
       "      <td>3.0</td>\n",
       "      <td>7</td>\n",
       "      <td>0</td>\n",
       "      <td>50</td>\n",
       "      <td>0</td>\n",
       "    </tr>\n",
       "    <tr>\n",
       "      <th>3</th>\n",
       "      <td>2542</td>\n",
       "      <td>Sales &amp; Marketing</td>\n",
       "      <td>region_23</td>\n",
       "      <td>Bachelor's</td>\n",
       "      <td>m</td>\n",
       "      <td>other</td>\n",
       "      <td>2</td>\n",
       "      <td>39</td>\n",
       "      <td>1.0</td>\n",
       "      <td>10</td>\n",
       "      <td>0</td>\n",
       "      <td>50</td>\n",
       "      <td>0</td>\n",
       "    </tr>\n",
       "    <tr>\n",
       "      <th>4</th>\n",
       "      <td>48945</td>\n",
       "      <td>Technology</td>\n",
       "      <td>region_26</td>\n",
       "      <td>Bachelor's</td>\n",
       "      <td>m</td>\n",
       "      <td>other</td>\n",
       "      <td>1</td>\n",
       "      <td>45</td>\n",
       "      <td>3.0</td>\n",
       "      <td>2</td>\n",
       "      <td>0</td>\n",
       "      <td>73</td>\n",
       "      <td>0</td>\n",
       "    </tr>\n",
       "    <tr>\n",
       "      <th>...</th>\n",
       "      <td>...</td>\n",
       "      <td>...</td>\n",
       "      <td>...</td>\n",
       "      <td>...</td>\n",
       "      <td>...</td>\n",
       "      <td>...</td>\n",
       "      <td>...</td>\n",
       "      <td>...</td>\n",
       "      <td>...</td>\n",
       "      <td>...</td>\n",
       "      <td>...</td>\n",
       "      <td>...</td>\n",
       "      <td>...</td>\n",
       "    </tr>\n",
       "    <tr>\n",
       "      <th>54803</th>\n",
       "      <td>3030</td>\n",
       "      <td>Technology</td>\n",
       "      <td>region_14</td>\n",
       "      <td>Bachelor's</td>\n",
       "      <td>m</td>\n",
       "      <td>sourcing</td>\n",
       "      <td>1</td>\n",
       "      <td>48</td>\n",
       "      <td>3.0</td>\n",
       "      <td>17</td>\n",
       "      <td>0</td>\n",
       "      <td>78</td>\n",
       "      <td>0</td>\n",
       "    </tr>\n",
       "    <tr>\n",
       "      <th>54804</th>\n",
       "      <td>74592</td>\n",
       "      <td>Operations</td>\n",
       "      <td>region_27</td>\n",
       "      <td>Master's &amp; above</td>\n",
       "      <td>f</td>\n",
       "      <td>other</td>\n",
       "      <td>1</td>\n",
       "      <td>37</td>\n",
       "      <td>2.0</td>\n",
       "      <td>6</td>\n",
       "      <td>0</td>\n",
       "      <td>56</td>\n",
       "      <td>0</td>\n",
       "    </tr>\n",
       "    <tr>\n",
       "      <th>54805</th>\n",
       "      <td>13918</td>\n",
       "      <td>Analytics</td>\n",
       "      <td>region_1</td>\n",
       "      <td>Bachelor's</td>\n",
       "      <td>m</td>\n",
       "      <td>other</td>\n",
       "      <td>1</td>\n",
       "      <td>27</td>\n",
       "      <td>5.0</td>\n",
       "      <td>3</td>\n",
       "      <td>0</td>\n",
       "      <td>79</td>\n",
       "      <td>0</td>\n",
       "    </tr>\n",
       "    <tr>\n",
       "      <th>54806</th>\n",
       "      <td>13614</td>\n",
       "      <td>Sales &amp; Marketing</td>\n",
       "      <td>region_9</td>\n",
       "      <td>NaN</td>\n",
       "      <td>m</td>\n",
       "      <td>sourcing</td>\n",
       "      <td>1</td>\n",
       "      <td>29</td>\n",
       "      <td>1.0</td>\n",
       "      <td>2</td>\n",
       "      <td>0</td>\n",
       "      <td>45</td>\n",
       "      <td>0</td>\n",
       "    </tr>\n",
       "    <tr>\n",
       "      <th>54807</th>\n",
       "      <td>51526</td>\n",
       "      <td>HR</td>\n",
       "      <td>region_22</td>\n",
       "      <td>Bachelor's</td>\n",
       "      <td>m</td>\n",
       "      <td>other</td>\n",
       "      <td>1</td>\n",
       "      <td>27</td>\n",
       "      <td>1.0</td>\n",
       "      <td>5</td>\n",
       "      <td>0</td>\n",
       "      <td>49</td>\n",
       "      <td>0</td>\n",
       "    </tr>\n",
       "  </tbody>\n",
       "</table>\n",
       "<p>54808 rows × 13 columns</p>\n",
       "</div>"
      ],
      "text/plain": [
       "       employee_id         department     region         education gender  \\\n",
       "0            65438  Sales & Marketing   region_7  Master's & above      f   \n",
       "1            65141         Operations  region_22        Bachelor's      m   \n",
       "2             7513  Sales & Marketing  region_19        Bachelor's      m   \n",
       "3             2542  Sales & Marketing  region_23        Bachelor's      m   \n",
       "4            48945         Technology  region_26        Bachelor's      m   \n",
       "...            ...                ...        ...               ...    ...   \n",
       "54803         3030         Technology  region_14        Bachelor's      m   \n",
       "54804        74592         Operations  region_27  Master's & above      f   \n",
       "54805        13918          Analytics   region_1        Bachelor's      m   \n",
       "54806        13614  Sales & Marketing   region_9               NaN      m   \n",
       "54807        51526                 HR  region_22        Bachelor's      m   \n",
       "\n",
       "      recruitment_channel  no_of_trainings  age  previous_year_rating  \\\n",
       "0                sourcing                1   35                   5.0   \n",
       "1                   other                1   30                   5.0   \n",
       "2                sourcing                1   34                   3.0   \n",
       "3                   other                2   39                   1.0   \n",
       "4                   other                1   45                   3.0   \n",
       "...                   ...              ...  ...                   ...   \n",
       "54803            sourcing                1   48                   3.0   \n",
       "54804               other                1   37                   2.0   \n",
       "54805               other                1   27                   5.0   \n",
       "54806            sourcing                1   29                   1.0   \n",
       "54807               other                1   27                   1.0   \n",
       "\n",
       "       length_of_service  awards_won?  avg_training_score  is_promoted  \n",
       "0                      8            0                  49            0  \n",
       "1                      4            0                  60            0  \n",
       "2                      7            0                  50            0  \n",
       "3                     10            0                  50            0  \n",
       "4                      2            0                  73            0  \n",
       "...                  ...          ...                 ...          ...  \n",
       "54803                 17            0                  78            0  \n",
       "54804                  6            0                  56            0  \n",
       "54805                  3            0                  79            0  \n",
       "54806                  2            0                  45            0  \n",
       "54807                  5            0                  49            0  \n",
       "\n",
       "[54808 rows x 13 columns]"
      ]
     },
     "execution_count": 5,
     "metadata": {},
     "output_type": "execute_result"
    }
   ],
   "source": [
    "df = pd.read_csv('HR.csv')\n",
    "df"
   ]
  },
  {
   "cell_type": "code",
   "execution_count": 6,
   "id": "894647ee",
   "metadata": {},
   "outputs": [
    {
     "data": {
      "text/html": [
       "<div>\n",
       "<style scoped>\n",
       "    .dataframe tbody tr th:only-of-type {\n",
       "        vertical-align: middle;\n",
       "    }\n",
       "\n",
       "    .dataframe tbody tr th {\n",
       "        vertical-align: top;\n",
       "    }\n",
       "\n",
       "    .dataframe thead th {\n",
       "        text-align: right;\n",
       "    }\n",
       "</style>\n",
       "<table border=\"1\" class=\"dataframe\">\n",
       "  <thead>\n",
       "    <tr style=\"text-align: right;\">\n",
       "      <th></th>\n",
       "      <th>employee_id</th>\n",
       "      <th>no_of_trainings</th>\n",
       "      <th>age</th>\n",
       "      <th>previous_year_rating</th>\n",
       "      <th>length_of_service</th>\n",
       "      <th>awards_won?</th>\n",
       "      <th>avg_training_score</th>\n",
       "      <th>is_promoted</th>\n",
       "    </tr>\n",
       "  </thead>\n",
       "  <tbody>\n",
       "    <tr>\n",
       "      <th>count</th>\n",
       "      <td>54808.000000</td>\n",
       "      <td>54808.000000</td>\n",
       "      <td>54808.000000</td>\n",
       "      <td>50684.000000</td>\n",
       "      <td>54808.000000</td>\n",
       "      <td>54808.000000</td>\n",
       "      <td>54808.000000</td>\n",
       "      <td>54808.000000</td>\n",
       "    </tr>\n",
       "    <tr>\n",
       "      <th>mean</th>\n",
       "      <td>39195.830627</td>\n",
       "      <td>1.253011</td>\n",
       "      <td>34.803915</td>\n",
       "      <td>3.329256</td>\n",
       "      <td>5.865512</td>\n",
       "      <td>0.023172</td>\n",
       "      <td>63.386750</td>\n",
       "      <td>0.085170</td>\n",
       "    </tr>\n",
       "    <tr>\n",
       "      <th>std</th>\n",
       "      <td>22586.581449</td>\n",
       "      <td>0.609264</td>\n",
       "      <td>7.660169</td>\n",
       "      <td>1.259993</td>\n",
       "      <td>4.265094</td>\n",
       "      <td>0.150450</td>\n",
       "      <td>13.371559</td>\n",
       "      <td>0.279137</td>\n",
       "    </tr>\n",
       "    <tr>\n",
       "      <th>min</th>\n",
       "      <td>1.000000</td>\n",
       "      <td>1.000000</td>\n",
       "      <td>20.000000</td>\n",
       "      <td>1.000000</td>\n",
       "      <td>1.000000</td>\n",
       "      <td>0.000000</td>\n",
       "      <td>39.000000</td>\n",
       "      <td>0.000000</td>\n",
       "    </tr>\n",
       "    <tr>\n",
       "      <th>25%</th>\n",
       "      <td>19669.750000</td>\n",
       "      <td>1.000000</td>\n",
       "      <td>29.000000</td>\n",
       "      <td>3.000000</td>\n",
       "      <td>3.000000</td>\n",
       "      <td>0.000000</td>\n",
       "      <td>51.000000</td>\n",
       "      <td>0.000000</td>\n",
       "    </tr>\n",
       "    <tr>\n",
       "      <th>50%</th>\n",
       "      <td>39225.500000</td>\n",
       "      <td>1.000000</td>\n",
       "      <td>33.000000</td>\n",
       "      <td>3.000000</td>\n",
       "      <td>5.000000</td>\n",
       "      <td>0.000000</td>\n",
       "      <td>60.000000</td>\n",
       "      <td>0.000000</td>\n",
       "    </tr>\n",
       "    <tr>\n",
       "      <th>75%</th>\n",
       "      <td>58730.500000</td>\n",
       "      <td>1.000000</td>\n",
       "      <td>39.000000</td>\n",
       "      <td>4.000000</td>\n",
       "      <td>7.000000</td>\n",
       "      <td>0.000000</td>\n",
       "      <td>76.000000</td>\n",
       "      <td>0.000000</td>\n",
       "    </tr>\n",
       "    <tr>\n",
       "      <th>max</th>\n",
       "      <td>78298.000000</td>\n",
       "      <td>10.000000</td>\n",
       "      <td>60.000000</td>\n",
       "      <td>5.000000</td>\n",
       "      <td>37.000000</td>\n",
       "      <td>1.000000</td>\n",
       "      <td>99.000000</td>\n",
       "      <td>1.000000</td>\n",
       "    </tr>\n",
       "  </tbody>\n",
       "</table>\n",
       "</div>"
      ],
      "text/plain": [
       "        employee_id  no_of_trainings           age  previous_year_rating  \\\n",
       "count  54808.000000     54808.000000  54808.000000          50684.000000   \n",
       "mean   39195.830627         1.253011     34.803915              3.329256   \n",
       "std    22586.581449         0.609264      7.660169              1.259993   \n",
       "min        1.000000         1.000000     20.000000              1.000000   \n",
       "25%    19669.750000         1.000000     29.000000              3.000000   \n",
       "50%    39225.500000         1.000000     33.000000              3.000000   \n",
       "75%    58730.500000         1.000000     39.000000              4.000000   \n",
       "max    78298.000000        10.000000     60.000000              5.000000   \n",
       "\n",
       "       length_of_service   awards_won?  avg_training_score   is_promoted  \n",
       "count       54808.000000  54808.000000        54808.000000  54808.000000  \n",
       "mean            5.865512      0.023172           63.386750      0.085170  \n",
       "std             4.265094      0.150450           13.371559      0.279137  \n",
       "min             1.000000      0.000000           39.000000      0.000000  \n",
       "25%             3.000000      0.000000           51.000000      0.000000  \n",
       "50%             5.000000      0.000000           60.000000      0.000000  \n",
       "75%             7.000000      0.000000           76.000000      0.000000  \n",
       "max            37.000000      1.000000           99.000000      1.000000  "
      ]
     },
     "execution_count": 6,
     "metadata": {},
     "output_type": "execute_result"
    }
   ],
   "source": [
    "df.describe()"
   ]
  },
  {
   "cell_type": "code",
   "execution_count": 7,
   "id": "a13ca316",
   "metadata": {},
   "outputs": [
    {
     "data": {
      "text/html": [
       "<div>\n",
       "<style scoped>\n",
       "    .dataframe tbody tr th:only-of-type {\n",
       "        vertical-align: middle;\n",
       "    }\n",
       "\n",
       "    .dataframe tbody tr th {\n",
       "        vertical-align: top;\n",
       "    }\n",
       "\n",
       "    .dataframe thead th {\n",
       "        text-align: right;\n",
       "    }\n",
       "</style>\n",
       "<table border=\"1\" class=\"dataframe\">\n",
       "  <thead>\n",
       "    <tr style=\"text-align: right;\">\n",
       "      <th></th>\n",
       "      <th>department</th>\n",
       "      <th>education</th>\n",
       "      <th>no_of_trainings</th>\n",
       "      <th>age</th>\n",
       "      <th>previous_year_rating</th>\n",
       "      <th>length_of_service</th>\n",
       "      <th>awards_won?</th>\n",
       "      <th>avg_training_score</th>\n",
       "      <th>is_promoted</th>\n",
       "    </tr>\n",
       "  </thead>\n",
       "  <tbody>\n",
       "    <tr>\n",
       "      <th>0</th>\n",
       "      <td>Sales &amp; Marketing</td>\n",
       "      <td>Master's &amp; above</td>\n",
       "      <td>1</td>\n",
       "      <td>35</td>\n",
       "      <td>5.0</td>\n",
       "      <td>8</td>\n",
       "      <td>0</td>\n",
       "      <td>49</td>\n",
       "      <td>0</td>\n",
       "    </tr>\n",
       "    <tr>\n",
       "      <th>1</th>\n",
       "      <td>Operations</td>\n",
       "      <td>Bachelor's</td>\n",
       "      <td>1</td>\n",
       "      <td>30</td>\n",
       "      <td>5.0</td>\n",
       "      <td>4</td>\n",
       "      <td>0</td>\n",
       "      <td>60</td>\n",
       "      <td>0</td>\n",
       "    </tr>\n",
       "    <tr>\n",
       "      <th>2</th>\n",
       "      <td>Sales &amp; Marketing</td>\n",
       "      <td>Bachelor's</td>\n",
       "      <td>1</td>\n",
       "      <td>34</td>\n",
       "      <td>3.0</td>\n",
       "      <td>7</td>\n",
       "      <td>0</td>\n",
       "      <td>50</td>\n",
       "      <td>0</td>\n",
       "    </tr>\n",
       "    <tr>\n",
       "      <th>3</th>\n",
       "      <td>Sales &amp; Marketing</td>\n",
       "      <td>Bachelor's</td>\n",
       "      <td>2</td>\n",
       "      <td>39</td>\n",
       "      <td>1.0</td>\n",
       "      <td>10</td>\n",
       "      <td>0</td>\n",
       "      <td>50</td>\n",
       "      <td>0</td>\n",
       "    </tr>\n",
       "    <tr>\n",
       "      <th>4</th>\n",
       "      <td>Technology</td>\n",
       "      <td>Bachelor's</td>\n",
       "      <td>1</td>\n",
       "      <td>45</td>\n",
       "      <td>3.0</td>\n",
       "      <td>2</td>\n",
       "      <td>0</td>\n",
       "      <td>73</td>\n",
       "      <td>0</td>\n",
       "    </tr>\n",
       "    <tr>\n",
       "      <th>...</th>\n",
       "      <td>...</td>\n",
       "      <td>...</td>\n",
       "      <td>...</td>\n",
       "      <td>...</td>\n",
       "      <td>...</td>\n",
       "      <td>...</td>\n",
       "      <td>...</td>\n",
       "      <td>...</td>\n",
       "      <td>...</td>\n",
       "    </tr>\n",
       "    <tr>\n",
       "      <th>54803</th>\n",
       "      <td>Technology</td>\n",
       "      <td>Bachelor's</td>\n",
       "      <td>1</td>\n",
       "      <td>48</td>\n",
       "      <td>3.0</td>\n",
       "      <td>17</td>\n",
       "      <td>0</td>\n",
       "      <td>78</td>\n",
       "      <td>0</td>\n",
       "    </tr>\n",
       "    <tr>\n",
       "      <th>54804</th>\n",
       "      <td>Operations</td>\n",
       "      <td>Master's &amp; above</td>\n",
       "      <td>1</td>\n",
       "      <td>37</td>\n",
       "      <td>2.0</td>\n",
       "      <td>6</td>\n",
       "      <td>0</td>\n",
       "      <td>56</td>\n",
       "      <td>0</td>\n",
       "    </tr>\n",
       "    <tr>\n",
       "      <th>54805</th>\n",
       "      <td>Analytics</td>\n",
       "      <td>Bachelor's</td>\n",
       "      <td>1</td>\n",
       "      <td>27</td>\n",
       "      <td>5.0</td>\n",
       "      <td>3</td>\n",
       "      <td>0</td>\n",
       "      <td>79</td>\n",
       "      <td>0</td>\n",
       "    </tr>\n",
       "    <tr>\n",
       "      <th>54806</th>\n",
       "      <td>Sales &amp; Marketing</td>\n",
       "      <td>NaN</td>\n",
       "      <td>1</td>\n",
       "      <td>29</td>\n",
       "      <td>1.0</td>\n",
       "      <td>2</td>\n",
       "      <td>0</td>\n",
       "      <td>45</td>\n",
       "      <td>0</td>\n",
       "    </tr>\n",
       "    <tr>\n",
       "      <th>54807</th>\n",
       "      <td>HR</td>\n",
       "      <td>Bachelor's</td>\n",
       "      <td>1</td>\n",
       "      <td>27</td>\n",
       "      <td>1.0</td>\n",
       "      <td>5</td>\n",
       "      <td>0</td>\n",
       "      <td>49</td>\n",
       "      <td>0</td>\n",
       "    </tr>\n",
       "  </tbody>\n",
       "</table>\n",
       "<p>54808 rows × 9 columns</p>\n",
       "</div>"
      ],
      "text/plain": [
       "              department         education  no_of_trainings  age  \\\n",
       "0      Sales & Marketing  Master's & above                1   35   \n",
       "1             Operations        Bachelor's                1   30   \n",
       "2      Sales & Marketing        Bachelor's                1   34   \n",
       "3      Sales & Marketing        Bachelor's                2   39   \n",
       "4             Technology        Bachelor's                1   45   \n",
       "...                  ...               ...              ...  ...   \n",
       "54803         Technology        Bachelor's                1   48   \n",
       "54804         Operations  Master's & above                1   37   \n",
       "54805          Analytics        Bachelor's                1   27   \n",
       "54806  Sales & Marketing               NaN                1   29   \n",
       "54807                 HR        Bachelor's                1   27   \n",
       "\n",
       "       previous_year_rating  length_of_service  awards_won?  \\\n",
       "0                       5.0                  8            0   \n",
       "1                       5.0                  4            0   \n",
       "2                       3.0                  7            0   \n",
       "3                       1.0                 10            0   \n",
       "4                       3.0                  2            0   \n",
       "...                     ...                ...          ...   \n",
       "54803                   3.0                 17            0   \n",
       "54804                   2.0                  6            0   \n",
       "54805                   5.0                  3            0   \n",
       "54806                   1.0                  2            0   \n",
       "54807                   1.0                  5            0   \n",
       "\n",
       "       avg_training_score  is_promoted  \n",
       "0                      49            0  \n",
       "1                      60            0  \n",
       "2                      50            0  \n",
       "3                      50            0  \n",
       "4                      73            0  \n",
       "...                   ...          ...  \n",
       "54803                  78            0  \n",
       "54804                  56            0  \n",
       "54805                  79            0  \n",
       "54806                  45            0  \n",
       "54807                  49            0  \n",
       "\n",
       "[54808 rows x 9 columns]"
      ]
     },
     "execution_count": 7,
     "metadata": {},
     "output_type": "execute_result"
    }
   ],
   "source": [
    "df.drop(columns=['recruitment_channel','region','gender','employee_id'],inplace=True)\n",
    "df"
   ]
  },
  {
   "cell_type": "code",
   "execution_count": 8,
   "id": "bb648f2d",
   "metadata": {},
   "outputs": [
    {
     "name": "stdout",
     "output_type": "stream",
     "text": [
      "<class 'pandas.core.frame.DataFrame'>\n",
      "RangeIndex: 54808 entries, 0 to 54807\n",
      "Data columns (total 9 columns):\n",
      " #   Column                Non-Null Count  Dtype  \n",
      "---  ------                --------------  -----  \n",
      " 0   department            54808 non-null  object \n",
      " 1   education             52399 non-null  object \n",
      " 2   no_of_trainings       54808 non-null  int64  \n",
      " 3   age                   54808 non-null  int64  \n",
      " 4   previous_year_rating  50684 non-null  float64\n",
      " 5   length_of_service     54808 non-null  int64  \n",
      " 6   awards_won?           54808 non-null  int64  \n",
      " 7   avg_training_score    54808 non-null  int64  \n",
      " 8   is_promoted           54808 non-null  int64  \n",
      "dtypes: float64(1), int64(6), object(2)\n",
      "memory usage: 3.8+ MB\n"
     ]
    }
   ],
   "source": [
    "df.info()"
   ]
  },
  {
   "cell_type": "code",
   "execution_count": 9,
   "id": "e8795bc0",
   "metadata": {},
   "outputs": [
    {
     "data": {
      "text/plain": [
       "department              False\n",
       "education                True\n",
       "no_of_trainings         False\n",
       "age                     False\n",
       "previous_year_rating     True\n",
       "length_of_service       False\n",
       "awards_won?             False\n",
       "avg_training_score      False\n",
       "is_promoted             False\n",
       "dtype: bool"
      ]
     },
     "execution_count": 9,
     "metadata": {},
     "output_type": "execute_result"
    }
   ],
   "source": [
    "df.isna().any()"
   ]
  },
  {
   "cell_type": "code",
   "execution_count": 10,
   "id": "3dd275f4",
   "metadata": {},
   "outputs": [
    {
     "data": {
      "text/plain": [
       "department                 0\n",
       "education               2409\n",
       "no_of_trainings            0\n",
       "age                        0\n",
       "previous_year_rating    4124\n",
       "length_of_service          0\n",
       "awards_won?                0\n",
       "avg_training_score         0\n",
       "is_promoted                0\n",
       "dtype: int64"
      ]
     },
     "execution_count": 10,
     "metadata": {},
     "output_type": "execute_result"
    }
   ],
   "source": [
    "df.isna().sum()"
   ]
  },
  {
   "cell_type": "code",
   "execution_count": 11,
   "id": "e06b3585",
   "metadata": {},
   "outputs": [],
   "source": [
    "#drop null values\n",
    "df.dropna(subset=['education'],inplace=True)"
   ]
  },
  {
   "cell_type": "code",
   "execution_count": 12,
   "id": "48a86612",
   "metadata": {},
   "outputs": [],
   "source": [
    "df['previous_year_rating'].fillna(value=df['previous_year_rating'].mean(), inplace=True)"
   ]
  },
  {
   "cell_type": "code",
   "execution_count": 13,
   "id": "49f98fab",
   "metadata": {},
   "outputs": [
    {
     "data": {
      "text/plain": [
       "department              0\n",
       "education               0\n",
       "no_of_trainings         0\n",
       "age                     0\n",
       "previous_year_rating    0\n",
       "length_of_service       0\n",
       "awards_won?             0\n",
       "avg_training_score      0\n",
       "is_promoted             0\n",
       "dtype: int64"
      ]
     },
     "execution_count": 13,
     "metadata": {},
     "output_type": "execute_result"
    }
   ],
   "source": [
    "df.isna().sum()"
   ]
  },
  {
   "cell_type": "code",
   "execution_count": 14,
   "id": "f5224a74",
   "metadata": {},
   "outputs": [
    {
     "data": {
      "text/plain": [
       "9918"
      ]
     },
     "execution_count": 14,
     "metadata": {},
     "output_type": "execute_result"
    }
   ],
   "source": [
    "#Identify duplicates records in the data\n",
    "dupes=df.duplicated()\n",
    "sum(dupes)"
   ]
  },
  {
   "cell_type": "code",
   "execution_count": 15,
   "id": "fd552d19",
   "metadata": {},
   "outputs": [],
   "source": [
    "#Remove Duplicate fro the dataset\n",
    "df.drop_duplicates(keep=False,inplace=True) "
   ]
  },
  {
   "cell_type": "code",
   "execution_count": 16,
   "id": "48b21767",
   "metadata": {},
   "outputs": [
    {
     "data": {
      "text/plain": [
       "0"
      ]
     },
     "execution_count": 16,
     "metadata": {},
     "output_type": "execute_result"
    }
   ],
   "source": [
    "#Identify duplicates records in the data\n",
    "dupes=df.duplicated()\n",
    "sum(dupes)"
   ]
  },
  {
   "cell_type": "code",
   "execution_count": 17,
   "id": "3037e610",
   "metadata": {},
   "outputs": [
    {
     "data": {
      "text/plain": [
       "(36219, 9)"
      ]
     },
     "execution_count": 17,
     "metadata": {},
     "output_type": "execute_result"
    }
   ],
   "source": [
    "df.shape"
   ]
  },
  {
   "cell_type": "code",
   "execution_count": 18,
   "id": "55af7f2d",
   "metadata": {},
   "outputs": [
    {
     "name": "stdout",
     "output_type": "stream",
     "text": [
      "Number of Not promoted  31871\n",
      "Number of promoted 4348\n"
     ]
    }
   ],
   "source": [
    "print(\"Number of Not promoted \",len(df[df[\"is_promoted\"]==0]))\n",
    "print(\"Number of promoted\",len(df[df[\"is_promoted\"]==1]))"
   ]
  },
  {
   "cell_type": "code",
   "execution_count": 19,
   "id": "c75ac4ac",
   "metadata": {},
   "outputs": [
    {
     "data": {
      "text/plain": [
       "Text(0, 0.5, 'Number of is promoted')"
      ]
     },
     "execution_count": 19,
     "metadata": {},
     "output_type": "execute_result"
    },
    {
     "data": {
      "image/png": "[encoded data removed]",
      "text/plain": [
       "<Figure size 432x288 with 1 Axes>"
      ]
     },
     "metadata": {
      "needs_background": "light"
     },
     "output_type": "display_data"
    }
   ],
   "source": [
    "#visualize the imbalance with a bar chart\n",
    "plt.title('Distribution of promoted', fontdict={'size' : 16, 'color':'brown'})\n",
    "sns.countplot(x='is_promoted', data=df)\n",
    "labels = ['Not promoted', 'promoted']   #to label the plot\n",
    "vals = [0, 1]   #to put the labels right\n",
    "plt.xticks(vals, labels)\n",
    "plt.xlabel('is_promoted', fontdict={'size' : 14, 'color' : 'green'})\n",
    "plt.ylabel('Number of is promoted', fontdict={'size' : 12, 'color':'green'})"
   ]
  },
  {
   "cell_type": "code",
   "execution_count": 20,
   "id": "975b5d63",
   "metadata": {},
   "outputs": [
    {
     "name": "stdout",
     "output_type": "stream",
     "text": [
      "Not promoted is  0.8799525111129518 of data\n",
      "Promoted is 0.12004748888704823 of data\n"
     ]
    }
   ],
   "source": [
    "print(\"Not promoted is \",len(df[df[\"is_promoted\"]==0])/len(df),'of data')\n",
    "print(\"Promoted is\",len(df[df[\"is_promoted\"]==1])/len(df),'of data')"
   ]
  },
  {
   "cell_type": "code",
   "execution_count": 21,
   "id": "de92c405",
   "metadata": {},
   "outputs": [
    {
     "name": "stdout",
     "output_type": "stream",
     "text": [
      "Proportion of the classes in the data:\n",
      "0    0.879953\n",
      "1    0.120047\n",
      "Name: is_promoted, dtype: float64\n"
     ]
    }
   ],
   "source": [
    "print('Proportion of the classes in the data:')\n",
    "print(df['is_promoted'].value_counts() / len(df))"
   ]
  },
  {
   "cell_type": "code",
   "execution_count": 22,
   "id": "7da26146",
   "metadata": {},
   "outputs": [
    {
     "name": "stdout",
     "output_type": "stream",
     "text": [
      "<class 'pandas.core.frame.DataFrame'>\n",
      "Int64Index: 36219 entries, 3 to 54807\n",
      "Data columns (total 9 columns):\n",
      " #   Column                Non-Null Count  Dtype  \n",
      "---  ------                --------------  -----  \n",
      " 0   department            36219 non-null  object \n",
      " 1   education             36219 non-null  object \n",
      " 2   no_of_trainings       36219 non-null  int64  \n",
      " 3   age                   36219 non-null  int64  \n",
      " 4   previous_year_rating  36219 non-null  float64\n",
      " 5   length_of_service     36219 non-null  int64  \n",
      " 6   awards_won?           36219 non-null  int64  \n",
      " 7   avg_training_score    36219 non-null  int64  \n",
      " 8   is_promoted           36219 non-null  int64  \n",
      "dtypes: float64(1), int64(6), object(2)\n",
      "memory usage: 3.8+ MB\n"
     ]
    }
   ],
   "source": [
    "df.info()"
   ]
  },
  {
   "cell_type": "markdown",
   "id": "8832b87e",
   "metadata": {},
   "source": [
    "### Data Preproccessing:\n",
    "\n",
    "### 1) Feature Engineering\n",
    "###### Dummy variables"
   ]
  },
  {
   "cell_type": "code",
   "execution_count": 23,
   "id": "393f77da",
   "metadata": {},
   "outputs": [
    {
     "data": {
      "text/html": [
       "<div>\n",
       "<style scoped>\n",
       "    .dataframe tbody tr th:only-of-type {\n",
       "        vertical-align: middle;\n",
       "    }\n",
       "\n",
       "    .dataframe tbody tr th {\n",
       "        vertical-align: top;\n",
       "    }\n",
       "\n",
       "    .dataframe thead th {\n",
       "        text-align: right;\n",
       "    }\n",
       "</style>\n",
       "<table border=\"1\" class=\"dataframe\">\n",
       "  <thead>\n",
       "    <tr style=\"text-align: right;\">\n",
       "      <th></th>\n",
       "      <th>department</th>\n",
       "      <th>education</th>\n",
       "      <th>no_of_trainings</th>\n",
       "      <th>age</th>\n",
       "      <th>previous_year_rating</th>\n",
       "      <th>length_of_service</th>\n",
       "      <th>awards_won?</th>\n",
       "      <th>avg_training_score</th>\n",
       "      <th>is_promoted</th>\n",
       "      <th>Finance</th>\n",
       "      <th>HR</th>\n",
       "      <th>Legal</th>\n",
       "      <th>Operations</th>\n",
       "      <th>Procurement</th>\n",
       "      <th>R&amp;D</th>\n",
       "      <th>Sales &amp; Marketing</th>\n",
       "      <th>Technology</th>\n",
       "    </tr>\n",
       "  </thead>\n",
       "  <tbody>\n",
       "    <tr>\n",
       "      <th>3</th>\n",
       "      <td>Sales &amp; Marketing</td>\n",
       "      <td>Bachelor's</td>\n",
       "      <td>2</td>\n",
       "      <td>39</td>\n",
       "      <td>1.0</td>\n",
       "      <td>10</td>\n",
       "      <td>0</td>\n",
       "      <td>50</td>\n",
       "      <td>0</td>\n",
       "      <td>0</td>\n",
       "      <td>0</td>\n",
       "      <td>0</td>\n",
       "      <td>0</td>\n",
       "      <td>0</td>\n",
       "      <td>0</td>\n",
       "      <td>1</td>\n",
       "      <td>0</td>\n",
       "    </tr>\n",
       "    <tr>\n",
       "      <th>4</th>\n",
       "      <td>Technology</td>\n",
       "      <td>Bachelor's</td>\n",
       "      <td>1</td>\n",
       "      <td>45</td>\n",
       "      <td>3.0</td>\n",
       "      <td>2</td>\n",
       "      <td>0</td>\n",
       "      <td>73</td>\n",
       "      <td>0</td>\n",
       "      <td>0</td>\n",
       "      <td>0</td>\n",
       "      <td>0</td>\n",
       "      <td>0</td>\n",
       "      <td>0</td>\n",
       "      <td>0</td>\n",
       "      <td>0</td>\n",
       "      <td>1</td>\n",
       "    </tr>\n",
       "    <tr>\n",
       "      <th>5</th>\n",
       "      <td>Analytics</td>\n",
       "      <td>Bachelor's</td>\n",
       "      <td>2</td>\n",
       "      <td>31</td>\n",
       "      <td>3.0</td>\n",
       "      <td>7</td>\n",
       "      <td>0</td>\n",
       "      <td>85</td>\n",
       "      <td>0</td>\n",
       "      <td>0</td>\n",
       "      <td>0</td>\n",
       "      <td>0</td>\n",
       "      <td>0</td>\n",
       "      <td>0</td>\n",
       "      <td>0</td>\n",
       "      <td>0</td>\n",
       "      <td>0</td>\n",
       "    </tr>\n",
       "    <tr>\n",
       "      <th>7</th>\n",
       "      <td>Operations</td>\n",
       "      <td>Master's &amp; above</td>\n",
       "      <td>1</td>\n",
       "      <td>33</td>\n",
       "      <td>3.0</td>\n",
       "      <td>6</td>\n",
       "      <td>0</td>\n",
       "      <td>63</td>\n",
       "      <td>0</td>\n",
       "      <td>0</td>\n",
       "      <td>0</td>\n",
       "      <td>0</td>\n",
       "      <td>1</td>\n",
       "      <td>0</td>\n",
       "      <td>0</td>\n",
       "      <td>0</td>\n",
       "      <td>0</td>\n",
       "    </tr>\n",
       "    <tr>\n",
       "      <th>9</th>\n",
       "      <td>Sales &amp; Marketing</td>\n",
       "      <td>Master's &amp; above</td>\n",
       "      <td>1</td>\n",
       "      <td>32</td>\n",
       "      <td>5.0</td>\n",
       "      <td>5</td>\n",
       "      <td>0</td>\n",
       "      <td>54</td>\n",
       "      <td>0</td>\n",
       "      <td>0</td>\n",
       "      <td>0</td>\n",
       "      <td>0</td>\n",
       "      <td>0</td>\n",
       "      <td>0</td>\n",
       "      <td>0</td>\n",
       "      <td>1</td>\n",
       "      <td>0</td>\n",
       "    </tr>\n",
       "  </tbody>\n",
       "</table>\n",
       "</div>"
      ],
      "text/plain": [
       "          department         education  no_of_trainings  age  \\\n",
       "3  Sales & Marketing        Bachelor's                2   39   \n",
       "4         Technology        Bachelor's                1   45   \n",
       "5          Analytics        Bachelor's                2   31   \n",
       "7         Operations  Master's & above                1   33   \n",
       "9  Sales & Marketing  Master's & above                1   32   \n",
       "\n",
       "   previous_year_rating  length_of_service  awards_won?  avg_training_score  \\\n",
       "3                   1.0                 10            0                  50   \n",
       "4                   3.0                  2            0                  73   \n",
       "5                   3.0                  7            0                  85   \n",
       "7                   3.0                  6            0                  63   \n",
       "9                   5.0                  5            0                  54   \n",
       "\n",
       "   is_promoted  Finance  HR  Legal  Operations  Procurement  R&D  \\\n",
       "3            0        0   0      0           0            0    0   \n",
       "4            0        0   0      0           0            0    0   \n",
       "5            0        0   0      0           0            0    0   \n",
       "7            0        0   0      0           1            0    0   \n",
       "9            0        0   0      0           0            0    0   \n",
       "\n",
       "   Sales & Marketing  Technology  \n",
       "3                  1           0  \n",
       "4                  0           1  \n",
       "5                  0           0  \n",
       "7                  0           0  \n",
       "9                  1           0  "
      ]
     },
     "execution_count": 23,
     "metadata": {},
     "output_type": "execute_result"
    }
   ],
   "source": [
    "data = df.copy()\n",
    "data_dep = pd.get_dummies(data['department'], drop_first=True)\n",
    "data_dummy = pd.concat([data, data_dep], axis=1)\n",
    "data_dummy.head()"
   ]
  },
  {
   "cell_type": "code",
   "execution_count": 24,
   "id": "cb860f93",
   "metadata": {},
   "outputs": [
    {
     "data": {
      "text/html": [
       "<div>\n",
       "<style scoped>\n",
       "    .dataframe tbody tr th:only-of-type {\n",
       "        vertical-align: middle;\n",
       "    }\n",
       "\n",
       "    .dataframe tbody tr th {\n",
       "        vertical-align: top;\n",
       "    }\n",
       "\n",
       "    .dataframe thead th {\n",
       "        text-align: right;\n",
       "    }\n",
       "</style>\n",
       "<table border=\"1\" class=\"dataframe\">\n",
       "  <thead>\n",
       "    <tr style=\"text-align: right;\">\n",
       "      <th></th>\n",
       "      <th>department</th>\n",
       "      <th>education</th>\n",
       "      <th>no_of_trainings</th>\n",
       "      <th>age</th>\n",
       "      <th>previous_year_rating</th>\n",
       "      <th>length_of_service</th>\n",
       "      <th>awards_won?</th>\n",
       "      <th>avg_training_score</th>\n",
       "      <th>is_promoted</th>\n",
       "      <th>Finance</th>\n",
       "      <th>HR</th>\n",
       "      <th>Legal</th>\n",
       "      <th>Operations</th>\n",
       "      <th>Procurement</th>\n",
       "      <th>R&amp;D</th>\n",
       "      <th>Sales &amp; Marketing</th>\n",
       "      <th>Technology</th>\n",
       "      <th>Below Secondary</th>\n",
       "      <th>Master's &amp; above</th>\n",
       "    </tr>\n",
       "  </thead>\n",
       "  <tbody>\n",
       "    <tr>\n",
       "      <th>3</th>\n",
       "      <td>Sales &amp; Marketing</td>\n",
       "      <td>Bachelor's</td>\n",
       "      <td>2</td>\n",
       "      <td>39</td>\n",
       "      <td>1.0</td>\n",
       "      <td>10</td>\n",
       "      <td>0</td>\n",
       "      <td>50</td>\n",
       "      <td>0</td>\n",
       "      <td>0</td>\n",
       "      <td>0</td>\n",
       "      <td>0</td>\n",
       "      <td>0</td>\n",
       "      <td>0</td>\n",
       "      <td>0</td>\n",
       "      <td>1</td>\n",
       "      <td>0</td>\n",
       "      <td>0</td>\n",
       "      <td>0</td>\n",
       "    </tr>\n",
       "    <tr>\n",
       "      <th>4</th>\n",
       "      <td>Technology</td>\n",
       "      <td>Bachelor's</td>\n",
       "      <td>1</td>\n",
       "      <td>45</td>\n",
       "      <td>3.0</td>\n",
       "      <td>2</td>\n",
       "      <td>0</td>\n",
       "      <td>73</td>\n",
       "      <td>0</td>\n",
       "      <td>0</td>\n",
       "      <td>0</td>\n",
       "      <td>0</td>\n",
       "      <td>0</td>\n",
       "      <td>0</td>\n",
       "      <td>0</td>\n",
       "      <td>0</td>\n",
       "      <td>1</td>\n",
       "      <td>0</td>\n",
       "      <td>0</td>\n",
       "    </tr>\n",
       "    <tr>\n",
       "      <th>5</th>\n",
       "      <td>Analytics</td>\n",
       "      <td>Bachelor's</td>\n",
       "      <td>2</td>\n",
       "      <td>31</td>\n",
       "      <td>3.0</td>\n",
       "      <td>7</td>\n",
       "      <td>0</td>\n",
       "      <td>85</td>\n",
       "      <td>0</td>\n",
       "      <td>0</td>\n",
       "      <td>0</td>\n",
       "      <td>0</td>\n",
       "      <td>0</td>\n",
       "      <td>0</td>\n",
       "      <td>0</td>\n",
       "      <td>0</td>\n",
       "      <td>0</td>\n",
       "      <td>0</td>\n",
       "      <td>0</td>\n",
       "    </tr>\n",
       "    <tr>\n",
       "      <th>7</th>\n",
       "      <td>Operations</td>\n",
       "      <td>Master's &amp; above</td>\n",
       "      <td>1</td>\n",
       "      <td>33</td>\n",
       "      <td>3.0</td>\n",
       "      <td>6</td>\n",
       "      <td>0</td>\n",
       "      <td>63</td>\n",
       "      <td>0</td>\n",
       "      <td>0</td>\n",
       "      <td>0</td>\n",
       "      <td>0</td>\n",
       "      <td>1</td>\n",
       "      <td>0</td>\n",
       "      <td>0</td>\n",
       "      <td>0</td>\n",
       "      <td>0</td>\n",
       "      <td>0</td>\n",
       "      <td>1</td>\n",
       "    </tr>\n",
       "    <tr>\n",
       "      <th>9</th>\n",
       "      <td>Sales &amp; Marketing</td>\n",
       "      <td>Master's &amp; above</td>\n",
       "      <td>1</td>\n",
       "      <td>32</td>\n",
       "      <td>5.0</td>\n",
       "      <td>5</td>\n",
       "      <td>0</td>\n",
       "      <td>54</td>\n",
       "      <td>0</td>\n",
       "      <td>0</td>\n",
       "      <td>0</td>\n",
       "      <td>0</td>\n",
       "      <td>0</td>\n",
       "      <td>0</td>\n",
       "      <td>0</td>\n",
       "      <td>1</td>\n",
       "      <td>0</td>\n",
       "      <td>0</td>\n",
       "      <td>1</td>\n",
       "    </tr>\n",
       "  </tbody>\n",
       "</table>\n",
       "</div>"
      ],
      "text/plain": [
       "          department         education  no_of_trainings  age  \\\n",
       "3  Sales & Marketing        Bachelor's                2   39   \n",
       "4         Technology        Bachelor's                1   45   \n",
       "5          Analytics        Bachelor's                2   31   \n",
       "7         Operations  Master's & above                1   33   \n",
       "9  Sales & Marketing  Master's & above                1   32   \n",
       "\n",
       "   previous_year_rating  length_of_service  awards_won?  avg_training_score  \\\n",
       "3                   1.0                 10            0                  50   \n",
       "4                   3.0                  2            0                  73   \n",
       "5                   3.0                  7            0                  85   \n",
       "7                   3.0                  6            0                  63   \n",
       "9                   5.0                  5            0                  54   \n",
       "\n",
       "   is_promoted  Finance  HR  Legal  Operations  Procurement  R&D  \\\n",
       "3            0        0   0      0           0            0    0   \n",
       "4            0        0   0      0           0            0    0   \n",
       "5            0        0   0      0           0            0    0   \n",
       "7            0        0   0      0           1            0    0   \n",
       "9            0        0   0      0           0            0    0   \n",
       "\n",
       "   Sales & Marketing  Technology  Below Secondary  Master's & above  \n",
       "3                  1           0                0                 0  \n",
       "4                  0           1                0                 0  \n",
       "5                  0           0                0                 0  \n",
       "7                  0           0                0                 1  \n",
       "9                  1           0                0                 1  "
      ]
     },
     "execution_count": 24,
     "metadata": {},
     "output_type": "execute_result"
    }
   ],
   "source": [
    "data_edu = pd.get_dummies(data['education'], drop_first=True)\n",
    "df_dummy = pd.concat([data_dummy, data_edu], axis=1)\n",
    "df_dummy.head()"
   ]
  },
  {
   "cell_type": "code",
   "execution_count": null,
   "id": "0dcd2510",
   "metadata": {},
   "outputs": [],
   "source": []
  },
  {
   "cell_type": "code",
   "execution_count": 25,
   "id": "9ec6c1d5",
   "metadata": {},
   "outputs": [
    {
     "data": {
      "text/html": [
       "<div>\n",
       "<style scoped>\n",
       "    .dataframe tbody tr th:only-of-type {\n",
       "        vertical-align: middle;\n",
       "    }\n",
       "\n",
       "    .dataframe tbody tr th {\n",
       "        vertical-align: top;\n",
       "    }\n",
       "\n",
       "    .dataframe thead th {\n",
       "        text-align: right;\n",
       "    }\n",
       "</style>\n",
       "<table border=\"1\" class=\"dataframe\">\n",
       "  <thead>\n",
       "    <tr style=\"text-align: right;\">\n",
       "      <th></th>\n",
       "      <th>no_of_trainings</th>\n",
       "      <th>age</th>\n",
       "      <th>previous_year_rating</th>\n",
       "      <th>length_of_service</th>\n",
       "      <th>awards_won?</th>\n",
       "      <th>avg_training_score</th>\n",
       "      <th>is_promoted</th>\n",
       "      <th>Finance</th>\n",
       "      <th>HR</th>\n",
       "      <th>Legal</th>\n",
       "      <th>Operations</th>\n",
       "      <th>Procurement</th>\n",
       "      <th>R&amp;D</th>\n",
       "      <th>Sales &amp; Marketing</th>\n",
       "      <th>Technology</th>\n",
       "      <th>Below Secondary</th>\n",
       "      <th>Master's &amp; above</th>\n",
       "    </tr>\n",
       "  </thead>\n",
       "  <tbody>\n",
       "    <tr>\n",
       "      <th>3</th>\n",
       "      <td>2</td>\n",
       "      <td>39</td>\n",
       "      <td>1.0</td>\n",
       "      <td>10</td>\n",
       "      <td>0</td>\n",
       "      <td>50</td>\n",
       "      <td>0</td>\n",
       "      <td>0</td>\n",
       "      <td>0</td>\n",
       "      <td>0</td>\n",
       "      <td>0</td>\n",
       "      <td>0</td>\n",
       "      <td>0</td>\n",
       "      <td>1</td>\n",
       "      <td>0</td>\n",
       "      <td>0</td>\n",
       "      <td>0</td>\n",
       "    </tr>\n",
       "    <tr>\n",
       "      <th>4</th>\n",
       "      <td>1</td>\n",
       "      <td>45</td>\n",
       "      <td>3.0</td>\n",
       "      <td>2</td>\n",
       "      <td>0</td>\n",
       "      <td>73</td>\n",
       "      <td>0</td>\n",
       "      <td>0</td>\n",
       "      <td>0</td>\n",
       "      <td>0</td>\n",
       "      <td>0</td>\n",
       "      <td>0</td>\n",
       "      <td>0</td>\n",
       "      <td>0</td>\n",
       "      <td>1</td>\n",
       "      <td>0</td>\n",
       "      <td>0</td>\n",
       "    </tr>\n",
       "    <tr>\n",
       "      <th>5</th>\n",
       "      <td>2</td>\n",
       "      <td>31</td>\n",
       "      <td>3.0</td>\n",
       "      <td>7</td>\n",
       "      <td>0</td>\n",
       "      <td>85</td>\n",
       "      <td>0</td>\n",
       "      <td>0</td>\n",
       "      <td>0</td>\n",
       "      <td>0</td>\n",
       "      <td>0</td>\n",
       "      <td>0</td>\n",
       "      <td>0</td>\n",
       "      <td>0</td>\n",
       "      <td>0</td>\n",
       "      <td>0</td>\n",
       "      <td>0</td>\n",
       "    </tr>\n",
       "    <tr>\n",
       "      <th>7</th>\n",
       "      <td>1</td>\n",
       "      <td>33</td>\n",
       "      <td>3.0</td>\n",
       "      <td>6</td>\n",
       "      <td>0</td>\n",
       "      <td>63</td>\n",
       "      <td>0</td>\n",
       "      <td>0</td>\n",
       "      <td>0</td>\n",
       "      <td>0</td>\n",
       "      <td>1</td>\n",
       "      <td>0</td>\n",
       "      <td>0</td>\n",
       "      <td>0</td>\n",
       "      <td>0</td>\n",
       "      <td>0</td>\n",
       "      <td>1</td>\n",
       "    </tr>\n",
       "    <tr>\n",
       "      <th>9</th>\n",
       "      <td>1</td>\n",
       "      <td>32</td>\n",
       "      <td>5.0</td>\n",
       "      <td>5</td>\n",
       "      <td>0</td>\n",
       "      <td>54</td>\n",
       "      <td>0</td>\n",
       "      <td>0</td>\n",
       "      <td>0</td>\n",
       "      <td>0</td>\n",
       "      <td>0</td>\n",
       "      <td>0</td>\n",
       "      <td>0</td>\n",
       "      <td>1</td>\n",
       "      <td>0</td>\n",
       "      <td>0</td>\n",
       "      <td>1</td>\n",
       "    </tr>\n",
       "    <tr>\n",
       "      <th>...</th>\n",
       "      <td>...</td>\n",
       "      <td>...</td>\n",
       "      <td>...</td>\n",
       "      <td>...</td>\n",
       "      <td>...</td>\n",
       "      <td>...</td>\n",
       "      <td>...</td>\n",
       "      <td>...</td>\n",
       "      <td>...</td>\n",
       "      <td>...</td>\n",
       "      <td>...</td>\n",
       "      <td>...</td>\n",
       "      <td>...</td>\n",
       "      <td>...</td>\n",
       "      <td>...</td>\n",
       "      <td>...</td>\n",
       "      <td>...</td>\n",
       "    </tr>\n",
       "    <tr>\n",
       "      <th>54802</th>\n",
       "      <td>2</td>\n",
       "      <td>31</td>\n",
       "      <td>1.0</td>\n",
       "      <td>2</td>\n",
       "      <td>0</td>\n",
       "      <td>49</td>\n",
       "      <td>0</td>\n",
       "      <td>0</td>\n",
       "      <td>0</td>\n",
       "      <td>0</td>\n",
       "      <td>0</td>\n",
       "      <td>0</td>\n",
       "      <td>0</td>\n",
       "      <td>1</td>\n",
       "      <td>0</td>\n",
       "      <td>0</td>\n",
       "      <td>0</td>\n",
       "    </tr>\n",
       "    <tr>\n",
       "      <th>54803</th>\n",
       "      <td>1</td>\n",
       "      <td>48</td>\n",
       "      <td>3.0</td>\n",
       "      <td>17</td>\n",
       "      <td>0</td>\n",
       "      <td>78</td>\n",
       "      <td>0</td>\n",
       "      <td>0</td>\n",
       "      <td>0</td>\n",
       "      <td>0</td>\n",
       "      <td>0</td>\n",
       "      <td>0</td>\n",
       "      <td>0</td>\n",
       "      <td>0</td>\n",
       "      <td>1</td>\n",
       "      <td>0</td>\n",
       "      <td>0</td>\n",
       "    </tr>\n",
       "    <tr>\n",
       "      <th>54804</th>\n",
       "      <td>1</td>\n",
       "      <td>37</td>\n",
       "      <td>2.0</td>\n",
       "      <td>6</td>\n",
       "      <td>0</td>\n",
       "      <td>56</td>\n",
       "      <td>0</td>\n",
       "      <td>0</td>\n",
       "      <td>0</td>\n",
       "      <td>0</td>\n",
       "      <td>1</td>\n",
       "      <td>0</td>\n",
       "      <td>0</td>\n",
       "      <td>0</td>\n",
       "      <td>0</td>\n",
       "      <td>0</td>\n",
       "      <td>1</td>\n",
       "    </tr>\n",
       "    <tr>\n",
       "      <th>54805</th>\n",
       "      <td>1</td>\n",
       "      <td>27</td>\n",
       "      <td>5.0</td>\n",
       "      <td>3</td>\n",
       "      <td>0</td>\n",
       "      <td>79</td>\n",
       "      <td>0</td>\n",
       "      <td>0</td>\n",
       "      <td>0</td>\n",
       "      <td>0</td>\n",
       "      <td>0</td>\n",
       "      <td>0</td>\n",
       "      <td>0</td>\n",
       "      <td>0</td>\n",
       "      <td>0</td>\n",
       "      <td>0</td>\n",
       "      <td>0</td>\n",
       "    </tr>\n",
       "    <tr>\n",
       "      <th>54807</th>\n",
       "      <td>1</td>\n",
       "      <td>27</td>\n",
       "      <td>1.0</td>\n",
       "      <td>5</td>\n",
       "      <td>0</td>\n",
       "      <td>49</td>\n",
       "      <td>0</td>\n",
       "      <td>0</td>\n",
       "      <td>1</td>\n",
       "      <td>0</td>\n",
       "      <td>0</td>\n",
       "      <td>0</td>\n",
       "      <td>0</td>\n",
       "      <td>0</td>\n",
       "      <td>0</td>\n",
       "      <td>0</td>\n",
       "      <td>0</td>\n",
       "    </tr>\n",
       "  </tbody>\n",
       "</table>\n",
       "<p>36219 rows × 17 columns</p>\n",
       "</div>"
      ],
      "text/plain": [
       "       no_of_trainings  age  previous_year_rating  length_of_service  \\\n",
       "3                    2   39                   1.0                 10   \n",
       "4                    1   45                   3.0                  2   \n",
       "5                    2   31                   3.0                  7   \n",
       "7                    1   33                   3.0                  6   \n",
       "9                    1   32                   5.0                  5   \n",
       "...                ...  ...                   ...                ...   \n",
       "54802                2   31                   1.0                  2   \n",
       "54803                1   48                   3.0                 17   \n",
       "54804                1   37                   2.0                  6   \n",
       "54805                1   27                   5.0                  3   \n",
       "54807                1   27                   1.0                  5   \n",
       "\n",
       "       awards_won?  avg_training_score  is_promoted  Finance  HR  Legal  \\\n",
       "3                0                  50            0        0   0      0   \n",
       "4                0                  73            0        0   0      0   \n",
       "5                0                  85            0        0   0      0   \n",
       "7                0                  63            0        0   0      0   \n",
       "9                0                  54            0        0   0      0   \n",
       "...            ...                 ...          ...      ...  ..    ...   \n",
       "54802            0                  49            0        0   0      0   \n",
       "54803            0                  78            0        0   0      0   \n",
       "54804            0                  56            0        0   0      0   \n",
       "54805            0                  79            0        0   0      0   \n",
       "54807            0                  49            0        0   1      0   \n",
       "\n",
       "       Operations  Procurement  R&D  Sales & Marketing  Technology  \\\n",
       "3               0            0    0                  1           0   \n",
       "4               0            0    0                  0           1   \n",
       "5               0            0    0                  0           0   \n",
       "7               1            0    0                  0           0   \n",
       "9               0            0    0                  1           0   \n",
       "...           ...          ...  ...                ...         ...   \n",
       "54802           0            0    0                  1           0   \n",
       "54803           0            0    0                  0           1   \n",
       "54804           1            0    0                  0           0   \n",
       "54805           0            0    0                  0           0   \n",
       "54807           0            0    0                  0           0   \n",
       "\n",
       "       Below Secondary  Master's & above  \n",
       "3                    0                 0  \n",
       "4                    0                 0  \n",
       "5                    0                 0  \n",
       "7                    0                 1  \n",
       "9                    0                 1  \n",
       "...                ...               ...  \n",
       "54802                0                 0  \n",
       "54803                0                 0  \n",
       "54804                0                 1  \n",
       "54805                0                 0  \n",
       "54807                0                 0  \n",
       "\n",
       "[36219 rows x 17 columns]"
      ]
     },
     "execution_count": 25,
     "metadata": {},
     "output_type": "execute_result"
    }
   ],
   "source": [
    "df_dummy.drop(columns=['department','education'],inplace=True)\n",
    "df_dummy"
   ]
  },
  {
   "cell_type": "markdown",
   "id": "8f9626a9",
   "metadata": {},
   "source": [
    "### EDA\n"
   ]
  },
  {
   "cell_type": "code",
   "execution_count": 26,
   "id": "d488d8ea",
   "metadata": {},
   "outputs": [
    {
     "data": {
      "text/plain": [
       "<AxesSubplot:>"
      ]
     },
     "execution_count": 26,
     "metadata": {},
     "output_type": "execute_result"
    },
    {
     "data": {
      "image/png": "[encoded data removed]",
      "text/plain": [
       "<Figure size 720x720 with 1 Axes>"
      ]
     },
     "metadata": {
      "needs_background": "light"
     },
     "output_type": "display_data"
    }
   ],
   "source": [
    "plt.subplots(figsize=(10,10))\n",
    "sns.heatmap(df.corr(),cbar=False, annot=True, cmap=\"YlGnBu\")"
   ]
  },
  {
   "cell_type": "code",
   "execution_count": 27,
   "id": "dc8254cb",
   "metadata": {},
   "outputs": [
    {
     "data": {
      "image/png": "[encoded data removed]",
      "text/plain": [
       "<Figure size 1080x1440 with 1 Axes>"
      ]
     },
     "metadata": {
      "needs_background": "light"
     },
     "output_type": "display_data"
    }
   ],
   "source": [
    "#barplots showing the frequency of each category separated by label\n",
    "plt.figure(figsize=[15,20])\n",
    "\n",
    "fft=[\"age\"]                   \n",
    "n=1\n",
    "for f in fft:\n",
    "    plt.subplot(12,1,n)\n",
    "    sns.countplot(x=f, hue='is_promoted',edgecolor=\"black\", palette = \"Set2\", data=df)\n",
    "    sns.despine()\n",
    "    plt.title(\"Countplot of {}  by is_promoted\".format(f))\n",
    "    n=n+1\n",
    "plt.tight_layout()\n",
    "plt.show()"
   ]
  },
  {
   "cell_type": "code",
   "execution_count": 28,
   "id": "cb6a5a9d",
   "metadata": {},
   "outputs": [
    {
     "data": {
      "text/plain": [
       "<seaborn.axisgrid.FacetGrid at 0x1ba84a9e430>"
      ]
     },
     "execution_count": 28,
     "metadata": {},
     "output_type": "execute_result"
    },
    {
     "data": {
      "image/png": "[encoded data removed]",
      "text/plain": [
       "<Figure size 864x432 with 1 Axes>"
      ]
     },
     "metadata": {
      "needs_background": "light"
     },
     "output_type": "display_data"
    }
   ],
   "source": [
    "sns.catplot(x=\"education\", y=\"is_promoted\", kind=\"bar\", data=df, height=6, aspect=2)"
   ]
  },
  {
   "cell_type": "code",
   "execution_count": 29,
   "id": "b6ecba30",
   "metadata": {
    "scrolled": true
   },
   "outputs": [
    {
     "data": {
      "text/html": [
       "<div>\n",
       "<style scoped>\n",
       "    .dataframe tbody tr th:only-of-type {\n",
       "        vertical-align: middle;\n",
       "    }\n",
       "\n",
       "    .dataframe tbody tr th {\n",
       "        vertical-align: top;\n",
       "    }\n",
       "\n",
       "    .dataframe thead th {\n",
       "        text-align: right;\n",
       "    }\n",
       "</style>\n",
       "<table border=\"1\" class=\"dataframe\">\n",
       "  <thead>\n",
       "    <tr style=\"text-align: right;\">\n",
       "      <th></th>\n",
       "      <th>department</th>\n",
       "      <th>education</th>\n",
       "      <th>no_of_trainings</th>\n",
       "      <th>age</th>\n",
       "      <th>previous_year_rating</th>\n",
       "      <th>length_of_service</th>\n",
       "      <th>awards_won?</th>\n",
       "      <th>avg_training_score</th>\n",
       "      <th>is_promoted</th>\n",
       "    </tr>\n",
       "  </thead>\n",
       "  <tbody>\n",
       "    <tr>\n",
       "      <th>3</th>\n",
       "      <td>Sales &amp; Marketing</td>\n",
       "      <td>Bachelor's</td>\n",
       "      <td>2</td>\n",
       "      <td>39</td>\n",
       "      <td>1.0</td>\n",
       "      <td>10</td>\n",
       "      <td>0</td>\n",
       "      <td>50</td>\n",
       "      <td>0</td>\n",
       "    </tr>\n",
       "    <tr>\n",
       "      <th>4</th>\n",
       "      <td>Technology</td>\n",
       "      <td>Bachelor's</td>\n",
       "      <td>1</td>\n",
       "      <td>45</td>\n",
       "      <td>3.0</td>\n",
       "      <td>2</td>\n",
       "      <td>0</td>\n",
       "      <td>73</td>\n",
       "      <td>0</td>\n",
       "    </tr>\n",
       "    <tr>\n",
       "      <th>5</th>\n",
       "      <td>Analytics</td>\n",
       "      <td>Bachelor's</td>\n",
       "      <td>2</td>\n",
       "      <td>31</td>\n",
       "      <td>3.0</td>\n",
       "      <td>7</td>\n",
       "      <td>0</td>\n",
       "      <td>85</td>\n",
       "      <td>0</td>\n",
       "    </tr>\n",
       "    <tr>\n",
       "      <th>7</th>\n",
       "      <td>Operations</td>\n",
       "      <td>Master's &amp; above</td>\n",
       "      <td>1</td>\n",
       "      <td>33</td>\n",
       "      <td>3.0</td>\n",
       "      <td>6</td>\n",
       "      <td>0</td>\n",
       "      <td>63</td>\n",
       "      <td>0</td>\n",
       "    </tr>\n",
       "    <tr>\n",
       "      <th>9</th>\n",
       "      <td>Sales &amp; Marketing</td>\n",
       "      <td>Master's &amp; above</td>\n",
       "      <td>1</td>\n",
       "      <td>32</td>\n",
       "      <td>5.0</td>\n",
       "      <td>5</td>\n",
       "      <td>0</td>\n",
       "      <td>54</td>\n",
       "      <td>0</td>\n",
       "    </tr>\n",
       "    <tr>\n",
       "      <th>...</th>\n",
       "      <td>...</td>\n",
       "      <td>...</td>\n",
       "      <td>...</td>\n",
       "      <td>...</td>\n",
       "      <td>...</td>\n",
       "      <td>...</td>\n",
       "      <td>...</td>\n",
       "      <td>...</td>\n",
       "      <td>...</td>\n",
       "    </tr>\n",
       "    <tr>\n",
       "      <th>54802</th>\n",
       "      <td>Sales &amp; Marketing</td>\n",
       "      <td>Bachelor's</td>\n",
       "      <td>2</td>\n",
       "      <td>31</td>\n",
       "      <td>1.0</td>\n",
       "      <td>2</td>\n",
       "      <td>0</td>\n",
       "      <td>49</td>\n",
       "      <td>0</td>\n",
       "    </tr>\n",
       "    <tr>\n",
       "      <th>54803</th>\n",
       "      <td>Technology</td>\n",
       "      <td>Bachelor's</td>\n",
       "      <td>1</td>\n",
       "      <td>48</td>\n",
       "      <td>3.0</td>\n",
       "      <td>17</td>\n",
       "      <td>0</td>\n",
       "      <td>78</td>\n",
       "      <td>0</td>\n",
       "    </tr>\n",
       "    <tr>\n",
       "      <th>54804</th>\n",
       "      <td>Operations</td>\n",
       "      <td>Master's &amp; above</td>\n",
       "      <td>1</td>\n",
       "      <td>37</td>\n",
       "      <td>2.0</td>\n",
       "      <td>6</td>\n",
       "      <td>0</td>\n",
       "      <td>56</td>\n",
       "      <td>0</td>\n",
       "    </tr>\n",
       "    <tr>\n",
       "      <th>54805</th>\n",
       "      <td>Analytics</td>\n",
       "      <td>Bachelor's</td>\n",
       "      <td>1</td>\n",
       "      <td>27</td>\n",
       "      <td>5.0</td>\n",
       "      <td>3</td>\n",
       "      <td>0</td>\n",
       "      <td>79</td>\n",
       "      <td>0</td>\n",
       "    </tr>\n",
       "    <tr>\n",
       "      <th>54807</th>\n",
       "      <td>HR</td>\n",
       "      <td>Bachelor's</td>\n",
       "      <td>1</td>\n",
       "      <td>27</td>\n",
       "      <td>1.0</td>\n",
       "      <td>5</td>\n",
       "      <td>0</td>\n",
       "      <td>49</td>\n",
       "      <td>0</td>\n",
       "    </tr>\n",
       "  </tbody>\n",
       "</table>\n",
       "<p>36219 rows × 9 columns</p>\n",
       "</div>"
      ],
      "text/plain": [
       "              department         education  no_of_trainings  age  \\\n",
       "3      Sales & Marketing        Bachelor's                2   39   \n",
       "4             Technology        Bachelor's                1   45   \n",
       "5              Analytics        Bachelor's                2   31   \n",
       "7             Operations  Master's & above                1   33   \n",
       "9      Sales & Marketing  Master's & above                1   32   \n",
       "...                  ...               ...              ...  ...   \n",
       "54802  Sales & Marketing        Bachelor's                2   31   \n",
       "54803         Technology        Bachelor's                1   48   \n",
       "54804         Operations  Master's & above                1   37   \n",
       "54805          Analytics        Bachelor's                1   27   \n",
       "54807                 HR        Bachelor's                1   27   \n",
       "\n",
       "       previous_year_rating  length_of_service  awards_won?  \\\n",
       "3                       1.0                 10            0   \n",
       "4                       3.0                  2            0   \n",
       "5                       3.0                  7            0   \n",
       "7                       3.0                  6            0   \n",
       "9                       5.0                  5            0   \n",
       "...                     ...                ...          ...   \n",
       "54802                   1.0                  2            0   \n",
       "54803                   3.0                 17            0   \n",
       "54804                   2.0                  6            0   \n",
       "54805                   5.0                  3            0   \n",
       "54807                   1.0                  5            0   \n",
       "\n",
       "       avg_training_score  is_promoted  \n",
       "3                      50            0  \n",
       "4                      73            0  \n",
       "5                      85            0  \n",
       "7                      63            0  \n",
       "9                      54            0  \n",
       "...                   ...          ...  \n",
       "54802                  49            0  \n",
       "54803                  78            0  \n",
       "54804                  56            0  \n",
       "54805                  79            0  \n",
       "54807                  49            0  \n",
       "\n",
       "[36219 rows x 9 columns]"
      ]
     },
     "execution_count": 29,
     "metadata": {},
     "output_type": "execute_result"
    }
   ],
   "source": [
    "df"
   ]
  },
  {
   "cell_type": "code",
   "execution_count": 30,
   "id": "433f9fd6",
   "metadata": {},
   "outputs": [
    {
     "data": {
      "image/png": "[encoded data removed]",
      "text/plain": [
       "<Figure size 1080x288 with 1 Axes>"
      ]
     },
     "metadata": {
      "needs_background": "light"
     },
     "output_type": "display_data"
    }
   ],
   "source": [
    "plt.figure(figsize=(15,4))\n",
    "ax = sns.countplot(x=\"department\",data=df, palette = \"Set2\",hue=\"is_promoted\", order = df['department'].value_counts().index)\n",
    "ax.grid(False)\n",
    "plt.suptitle(\"Department\")\n",
    "plt.show()"
   ]
  },
  {
   "cell_type": "code",
   "execution_count": 31,
   "id": "ee6c849a",
   "metadata": {},
   "outputs": [
    {
     "data": {
      "image/png": "[encoded data removed]",
      "text/plain": [
       "<Figure size 1080x1440 with 1 Axes>"
      ]
     },
     "metadata": {
      "needs_background": "light"
     },
     "output_type": "display_data"
    }
   ],
   "source": [
    "#barplots showing the frequency of each category separated by label\n",
    "plt.figure(figsize=[15,20])\n",
    "\n",
    "fft=[\"no_of_trainings\"]                   \n",
    "n=1\n",
    "for f in fft:\n",
    "    plt.subplot(12,1,n)\n",
    "    sns.countplot(x=f, hue='is_promoted', edgecolor=\"black\",palette = \"Set2\", data=df)\n",
    "    sns.despine()\n",
    "    plt.title(\"Countplot of {}  by is_promoted\".format(f))\n",
    "    n=n+1\n",
    "plt.tight_layout()\n",
    "plt.show()"
   ]
  },
  {
   "cell_type": "markdown",
   "id": "2c41eb9b",
   "metadata": {},
   "source": [
    "# Exploring algorithms:\n",
    "## KNN"
   ]
  },
  {
   "cell_type": "code",
   "execution_count": 32,
   "id": "6a30c6f6",
   "metadata": {},
   "outputs": [],
   "source": [
    "X = df_dummy.drop('is_promoted',axis = 1)\n",
    "y = df_dummy.is_promoted\n",
    "X_train, X_test, y_train, y_test = train_test_split(X, y,test_size=0.30, random_state=42,stratify=y)"
   ]
  },
  {
   "cell_type": "code",
   "execution_count": 33,
   "id": "76d2c7df",
   "metadata": {},
   "outputs": [
    {
     "data": {
      "text/plain": [
       "KNeighborsClassifier(n_neighbors=3)"
      ]
     },
     "execution_count": 33,
     "metadata": {},
     "output_type": "execute_result"
    }
   ],
   "source": [
    "knn = KNeighborsClassifier(n_neighbors = 3)\n",
    "knn.fit(X_train,y_train)"
   ]
  },
  {
   "cell_type": "code",
   "execution_count": 34,
   "id": "91e4b3dc",
   "metadata": {},
   "outputs": [
    {
     "name": "stdout",
     "output_type": "stream",
     "text": [
      "[[9256  306]\n",
      " [1001  303]]\n",
      "KNN Accuracy =  87.9716547027425\n",
      "KNN Precision =  49.75369458128079\n",
      "KNN Recall =  23.236196319018404\n",
      "KNN F1 score=  31.677992681651858\n"
     ]
    }
   ],
   "source": [
    "y_pred_knn = knn.predict(X_test)\n",
    "#confusion matrix on KNN\n",
    "cf_matrix = metrics.confusion_matrix(y_test, y_pred_knn)\n",
    "print(cf_matrix)\n",
    "#accuracy on KNN\n",
    "accuracy = metrics.accuracy_score(y_test,y_pred_knn)\n",
    "print ('KNN Accuracy = ', accuracy * 100)\n",
    "#precision on KNN\n",
    "Precision = metrics.precision_score(y_test,y_pred_knn)\n",
    "print ('KNN Precision = ', Precision*100)\n",
    "#Recall on KNN\n",
    "Recall = metrics.recall_score(y_test,y_pred_knn)\n",
    "print ('KNN Recall = ', Recall*100)\n",
    "#F1 score on KNN\n",
    "f1_score = metrics.f1_score(y_test,y_pred_knn)\n",
    "print ('KNN F1 score= ',f1_score * 100)"
   ]
  },
  {
   "cell_type": "code",
   "execution_count": 35,
   "id": "5ad6552e",
   "metadata": {},
   "outputs": [
    {
     "name": "stdout",
     "output_type": "stream",
     "text": [
      "The scores are: [0.8816952  0.87727775 0.87838211 0.87838211 0.87905564]\n",
      "The mean score is 0.8789585603434548\n",
      "The F1 score is 0.31677992681651856\n"
     ]
    }
   ],
   "source": [
    "#Importing\n",
    "from sklearn.model_selection import cross_val_score\n",
    "#create a new KNN model\n",
    "KNN_CV = KNeighborsClassifier(n_neighbors=3)\n",
    "#train model with CV of 5 \n",
    "cv_scores = cross_val_score(KNN_CV, X, y, cv=5)\n",
    "#print each CV score (accuracy) and find the average\n",
    "print('The scores are:', cv_scores)\n",
    "print(f'The mean score is {np.mean(cv_scores)}')\n",
    "print(f'The F1 score is {f1_score}')\n"
   ]
  },
  {
   "cell_type": "code",
   "execution_count": 36,
   "id": "744641e4",
   "metadata": {},
   "outputs": [
    {
     "data": {
      "text/plain": [
       "GridSearchCV(cv=5, estimator=KNeighborsClassifier(),\n",
       "             param_grid={'n_neighbors': array([ 1,  2,  3,  4,  5,  6,  7,  8,  9, 10, 11, 12, 13, 14, 15, 16, 17,\n",
       "       18, 19])})"
      ]
     },
     "execution_count": 36,
     "metadata": {},
     "output_type": "execute_result"
    }
   ],
   "source": [
    "#importing\n",
    "from sklearn.model_selection import GridSearchCV\n",
    "# Create a new KNN model\n",
    "KNN_2 = KNeighborsClassifier()\n",
    "# Create a dictionary of all values we want to test for n_neighbors\n",
    "param_grid = {'n_neighbors': np.arange(1, 20)}\n",
    "# use gridsearch to test all values for n_neighbors\n",
    "KNN_gscv = GridSearchCV(KNN_2, param_grid, cv=5)\n",
    "\n",
    "#fit model to data\n",
    "KNN_gscv.fit(X, y)\n"
   ]
  },
  {
   "cell_type": "code",
   "execution_count": 37,
   "id": "73f16f3a",
   "metadata": {},
   "outputs": [
    {
     "data": {
      "text/plain": [
       "{'n_neighbors': 11}"
      ]
     },
     "execution_count": 37,
     "metadata": {},
     "output_type": "execute_result"
    }
   ],
   "source": [
    "KNN_gscv.best_params_"
   ]
  },
  {
   "cell_type": "code",
   "execution_count": 38,
   "id": "e7e4caaa",
   "metadata": {},
   "outputs": [
    {
     "data": {
      "text/plain": [
       "0.8932604743451531"
      ]
     },
     "execution_count": 38,
     "metadata": {},
     "output_type": "execute_result"
    }
   ],
   "source": [
    "KNN_gscv.best_score_"
   ]
  },
  {
   "cell_type": "code",
   "execution_count": 39,
   "id": "f4e7db9f",
   "metadata": {},
   "outputs": [
    {
     "name": "stdout",
     "output_type": "stream",
     "text": [
      "[[9533   29]\n",
      " [1055  249]]\n",
      "KNN F1 score=  31.479140328697852\n"
     ]
    }
   ],
   "source": [
    "y_pred_knn2 = KNN_gscv.predict(X_test)\n",
    "#confusion matrix on grid KNN\n",
    "cf_matrix = metrics.confusion_matrix(y_test, y_pred_knn2)\n",
    "print(cf_matrix)\n",
    "#F1 score on grid KNN\n",
    "f1_score = metrics.f1_score(y_test,y_pred_knn2)\n",
    "print ('KNN F1 score= ',f1_score * 100)"
   ]
  },
  {
   "cell_type": "code",
   "execution_count": 40,
   "id": "93f4ea65",
   "metadata": {},
   "outputs": [],
   "source": [
    "#KNN_gscv.scoring(y,y_pred_knn2)"
   ]
  },
  {
   "cell_type": "code",
   "execution_count": 41,
   "id": "38bac25c",
   "metadata": {},
   "outputs": [],
   "source": [
    "#y_pred_knn2 = KNN_gscv.predict(X)\n",
    "#f1_score = metrics.f1_score(y_test,y_pred_knn2)\n",
    "#print ('KNN F1 score= ',f1_score * 100)\n"
   ]
  },
  {
   "cell_type": "markdown",
   "id": "58b768a0",
   "metadata": {},
   "source": [
    "\n",
    "## Logistic Regression"
   ]
  },
  {
   "cell_type": "code",
   "execution_count": 42,
   "id": "768979f8",
   "metadata": {},
   "outputs": [
    {
     "name": "stderr",
     "output_type": "stream",
     "text": [
      "C:\\Users\\banon\\anaconda3\\lib\\site-packages\\sklearn\\linear_model\\_logistic.py:763: ConvergenceWarning: lbfgs failed to converge (status=1):\n",
      "STOP: TOTAL NO. of ITERATIONS REACHED LIMIT.\n",
      "\n",
      "Increase the number of iterations (max_iter) or scale the data as shown in:\n",
      "    https://scikit-learn.org/stable/modules/preprocessing.html\n",
      "Please also refer to the documentation for alternative solver options:\n",
      "    https://scikit-learn.org/stable/modules/linear_model.html#logistic-regression\n",
      "  n_iter_i = _check_optimize_result(\n"
     ]
    },
    {
     "data": {
      "text/plain": [
       "LogisticRegression()"
      ]
     },
     "execution_count": 42,
     "metadata": {},
     "output_type": "execute_result"
    }
   ],
   "source": [
    "Log_Reg = LogisticRegression()\n",
    "Log_Reg.fit(X_train, y_train)"
   ]
  },
  {
   "cell_type": "code",
   "execution_count": 43,
   "id": "b0e665b5",
   "metadata": {},
   "outputs": [
    {
     "name": "stdout",
     "output_type": "stream",
     "text": [
      "[[9472   90]\n",
      " [1110  194]]\n",
      "Logistic Regression Accuracy =  88.95637769188293\n",
      "Logistic Regression Precision =  68.30985915492957\n",
      "Logistic Regression Recall =  14.877300613496933\n",
      "Logistic Regression F1 score=  24.43324937027708\n"
     ]
    }
   ],
   "source": [
    "y_pred_Log_Reg = Log_Reg.predict(X_test)\n",
    "#confusion matrix on LR\n",
    "cf_matrix = metrics.confusion_matrix(y_test, y_pred_Log_Reg)\n",
    "print(cf_matrix)\n",
    "#accuracy on LR\n",
    "accuracy = metrics.accuracy_score(y_test,y_pred_Log_Reg)\n",
    "print ('Logistic Regression Accuracy = ', accuracy * 100)\n",
    "#precision on LR\n",
    "Precision = metrics.precision_score(y_test,y_pred_Log_Reg)\n",
    "print ('Logistic Regression Precision = ', Precision*100)\n",
    "#Recall on LR\n",
    "Recall = metrics.recall_score(y_test,y_pred_Log_Reg)\n",
    "print ('Logistic Regression Recall = ', Recall*100)\n",
    "#F1 score on LR\n",
    "f1_score = metrics.f1_score(y_test,y_pred_Log_Reg)\n",
    "print ('Logistic Regression F1 score= ',f1_score * 100)"
   ]
  },
  {
   "cell_type": "markdown",
   "id": "605cc3a3",
   "metadata": {},
   "source": [
    "## Decision Tree"
   ]
  },
  {
   "cell_type": "code",
   "execution_count": 44,
   "id": "79c302b4",
   "metadata": {},
   "outputs": [
    {
     "data": {
      "text/plain": [
       "DecisionTreeClassifier()"
      ]
     },
     "execution_count": 44,
     "metadata": {},
     "output_type": "execute_result"
    }
   ],
   "source": [
    "dtree = DecisionTreeClassifier()\n",
    "dtree.fit(X_train,y_train)"
   ]
  },
  {
   "cell_type": "code",
   "execution_count": 45,
   "id": "5a07f8df",
   "metadata": {},
   "outputs": [
    {
     "name": "stdout",
     "output_type": "stream",
     "text": [
      "[[8623  939]\n",
      " [ 771  533]]\n",
      "Decision Tree Accuracy =  84.26283821093318\n",
      "Decision Tree Precision =  36.20923913043478\n",
      "Decision Tree Recall =  40.87423312883436\n",
      "Decision Tree F1 score=  38.400576368876074\n"
     ]
    }
   ],
   "source": [
    "y_pred_dtree = dtree.predict(X_test)\n",
    "#confusion matrix on DT\n",
    "cf_matrix = metrics.confusion_matrix(y_test, y_pred_dtree)\n",
    "print(cf_matrix)\n",
    "#accuracy on DT\n",
    "accuracy = metrics.accuracy_score(y_test,y_pred_dtree)\n",
    "print ('Decision Tree Accuracy = ', accuracy * 100)\n",
    "#precision on DT\n",
    "Precision = metrics.precision_score(y_test,y_pred_dtree)\n",
    "print ('Decision Tree Precision = ', Precision*100)\n",
    "#Recall on DT\n",
    "Recall = metrics.recall_score(y_test,y_pred_dtree)\n",
    "print ('Decision Tree Recall = ', Recall*100)\n",
    "#F1 score on DT\n",
    "f1_score = metrics.f1_score(y_test,y_pred_dtree)\n",
    "print ('Decision Tree F1 score= ',f1_score * 100)"
   ]
  },
  {
   "cell_type": "markdown",
   "id": "5caa06a5",
   "metadata": {},
   "source": [
    "## Random Forest"
   ]
  },
  {
   "cell_type": "code",
   "execution_count": 46,
   "id": "2ba00162",
   "metadata": {},
   "outputs": [
    {
     "data": {
      "text/plain": [
       "RandomForestClassifier(n_estimators=500)"
      ]
     },
     "execution_count": 46,
     "metadata": {},
     "output_type": "execute_result"
    }
   ],
   "source": [
    "rf = RandomForestClassifier(n_estimators= 500)\n",
    "rf.fit(X_train,y_train)"
   ]
  },
  {
   "cell_type": "code",
   "execution_count": 47,
   "id": "462d5810",
   "metadata": {},
   "outputs": [
    {
     "name": "stdout",
     "output_type": "stream",
     "text": [
      "[[9309  253]\n",
      " [ 831  473]]\n",
      "Random Forest Accuracy =  90.02392784833425\n",
      "Random Forest Precision =  65.15151515151516\n",
      "Random Forest Recall =  36.27300613496933\n",
      "Random Forest F1 score=  46.60098522167488\n"
     ]
    }
   ],
   "source": [
    "y_pred_rf = rf.predict(X_test)\n",
    "#confusion matrix on RF\n",
    "cf_matrix = metrics.confusion_matrix(y_test, y_pred_rf)\n",
    "print(cf_matrix)\n",
    "#accuracy on RF\n",
    "accuracy = metrics.accuracy_score(y_test,y_pred_rf)\n",
    "print ('Random Forest Accuracy = ', accuracy * 100)\n",
    "#precision on RF\n",
    "Precision = metrics.precision_score(y_test,y_pred_rf)\n",
    "print ('Random Forest Precision = ', Precision*100)\n",
    "#Recall on RF\n",
    "Recall = metrics.recall_score(y_test,y_pred_rf)\n",
    "print ('Random Forest Recall = ', Recall*100)\n",
    "#F1 score on RF\n",
    "f1_score = metrics.f1_score(y_test,y_pred_rf)\n",
    "print ('Random Forest F1 score= ',f1_score * 100)"
   ]
  },
  {
   "cell_type": "markdown",
   "id": "611d8fa0",
   "metadata": {},
   "source": [
    "## Data Imbalance technique:\n",
    "### Standardize data"
   ]
  },
  {
   "cell_type": "code",
   "execution_count": 48,
   "id": "af785006",
   "metadata": {},
   "outputs": [],
   "source": [
    "# standardize the data\n",
    "from sklearn.preprocessing import StandardScaler\n",
    "scaler = StandardScaler()\n",
    "X = scaler.fit_transform(X)"
   ]
  },
  {
   "cell_type": "code",
   "execution_count": 49,
   "id": "d4604f44",
   "metadata": {},
   "outputs": [],
   "source": [
    "X_train, X_test, y_train, y_test = train_test_split(X, y, test_size = 0.33, random_state = 2, shuffle = True, stratify = y)"
   ]
  },
  {
   "cell_type": "markdown",
   "id": "a2a087b3",
   "metadata": {},
   "source": [
    "### SMOTE:"
   ]
  },
  {
   "cell_type": "code",
   "execution_count": 50,
   "id": "5cdfca53",
   "metadata": {},
   "outputs": [],
   "source": [
    "from imblearn.over_sampling import SMOTE\n",
    "sm = SMOTE(random_state = 123)"
   ]
  },
  {
   "cell_type": "code",
   "execution_count": 51,
   "id": "9971268f",
   "metadata": {},
   "outputs": [],
   "source": [
    "X_train_new, y_train_new = sm.fit_resample(X_train, y_train.ravel())"
   ]
  },
  {
   "cell_type": "code",
   "execution_count": 52,
   "id": "7acbc584",
   "metadata": {},
   "outputs": [
    {
     "data": {
      "text/plain": [
       "(42706, 42706)"
      ]
     },
     "execution_count": 52,
     "metadata": {},
     "output_type": "execute_result"
    }
   ],
   "source": [
    "len(X_train_new), len(y_train_new)"
   ]
  },
  {
   "cell_type": "code",
   "execution_count": 53,
   "id": "8a7e2aa1",
   "metadata": {},
   "outputs": [
    {
     "data": {
      "image/png": "[encoded data removed]",
      "text/plain": [
       "<Figure size 432x288 with 1 Axes>"
      ]
     },
     "metadata": {
      "needs_background": "light"
     },
     "output_type": "display_data"
    }
   ],
   "source": [
    "pd.Series(y_train_new).value_counts().plot.bar();"
   ]
  },
  {
   "cell_type": "code",
   "execution_count": 54,
   "id": "5613ba98",
   "metadata": {},
   "outputs": [
    {
     "data": {
      "text/plain": [
       "Text(0, 0.5, 'Number of is promoted')"
      ]
     },
     "execution_count": 54,
     "metadata": {},
     "output_type": "execute_result"
    },
    {
     "data": {
      "image/png": "[encoded data removed]",
      "text/plain": [
       "<Figure size 432x288 with 1 Axes>"
      ]
     },
     "metadata": {
      "needs_background": "light"
     },
     "output_type": "display_data"
    }
   ],
   "source": [
    "#visualize the imbalance with a bar chart\n",
    "plt.title('Distribution of promoted', fontdict={'size' : 16, 'color':'brown'})\n",
    "sns.countplot(x=y_train_new, data=df)\n",
    "labels = ['Not promoted', 'promoted']   #to label the plot\n",
    "vals = [0, 1]   #to put the labels right\n",
    "plt.xticks(vals, labels)\n",
    "plt.xlabel('is_promoted', fontdict={'size' : 14, 'color' : 'green'})\n",
    "plt.ylabel('Number of is promoted', fontdict={'size' : 12, 'color':'green'})"
   ]
  },
  {
   "cell_type": "markdown",
   "id": "a9f585df",
   "metadata": {},
   "source": [
    "### 1. Logistic Regression after SMOTE:"
   ]
  },
  {
   "cell_type": "code",
   "execution_count": 55,
   "id": "6083b39f",
   "metadata": {},
   "outputs": [],
   "source": [
    "clf = LogisticRegression(solver = 'lbfgs')\n",
    "# fit the model\n",
    "clf.fit(X_train_new, y_train_new)\n",
    "\n",
    "# prediction for Training data\n",
    "train_pred_sm = clf.predict(X_train_new)\n",
    "\n",
    "# prediction for Testing data\n",
    "test_pred_sm = clf.predict(X_test)"
   ]
  },
  {
   "cell_type": "code",
   "execution_count": 56,
   "id": "fe88815f",
   "metadata": {},
   "outputs": [
    {
     "name": "stdout",
     "output_type": "stream",
     "text": [
      "Accuracy score for Training Dataset =  0.7287968903666932\n",
      "Accuracy score for Testing Dataset =  0.7498535932401907\n"
     ]
    }
   ],
   "source": [
    "print('Accuracy score for Training Dataset = ', accuracy_score(train_pred_sm, y_train_new))\n",
    "print('Accuracy score for Testing Dataset = ', accuracy_score(test_pred_sm, y_test))"
   ]
  },
  {
   "cell_type": "code",
   "execution_count": 57,
   "id": "9aba7f6b",
   "metadata": {
    "scrolled": true
   },
   "outputs": [
    {
     "name": "stdout",
     "output_type": "stream",
     "text": [
      "Confusion Matrix - Training Dataset\n",
      "Predicted      0      1    All\n",
      "True                          \n",
      "0          16268   5085  21353\n",
      "1           6497  14856  21353\n",
      "All        22765  19941  42706\n"
     ]
    }
   ],
   "source": [
    "print('Confusion Matrix - Training Dataset')\n",
    "#lr_matrix =pd.crosstab(y_train_new, train_pred_sm, rownames = ['True'], colnames = ['Predicted'], margins = False)\n",
    "#print(lr_matrix)                    \n",
    "print(pd.crosstab(y_train_new, train_pred_sm, rownames = ['True'], colnames = ['Predicted'], margins = True))"
   ]
  },
  {
   "cell_type": "code",
   "execution_count": 58,
   "id": "f874eda2",
   "metadata": {},
   "outputs": [
    {
     "name": "stdout",
     "output_type": "stream",
     "text": [
      "Logistic regression F1 score=  38.729508196721305\n"
     ]
    }
   ],
   "source": [
    "#F1 score on LR after SMOTE\n",
    "f1_score = metrics.f1_score(y_test,test_pred_sm)\n",
    "print ('Logistic regression F1 score= ',f1_score * 100)"
   ]
  },
  {
   "cell_type": "code",
   "execution_count": 59,
   "id": "4a67c811",
   "metadata": {},
   "outputs": [
    {
     "data": {
      "text/plain": [
       "0.7104244060124572"
      ]
     },
     "execution_count": 59,
     "metadata": {},
     "output_type": "execute_result"
    }
   ],
   "source": [
    "AUC_lr=roc_auc_score(y_test,test_pred_sm)\n",
    "AUC_lr"
   ]
  },
  {
   "cell_type": "code",
   "execution_count": 65,
   "id": "2b0148c7",
   "metadata": {},
   "outputs": [
    {
     "name": "stdout",
     "output_type": "stream",
     "text": [
      "Normal Logistic Regression Test F1: 0.387, Test AUC: 0.801\n",
      "Balanced class weights Logistic Regression Test F1: 0.387, Test AUC: 0.801\n",
      "9:1 class weights Logistic Regression Test F1: 0.235, Test AUC: 0.803\n"
     ]
    }
   ],
   "source": [
    "#LR with resampling data using class weight\n",
    "\n",
    "lr_weight = LogisticRegression(solver='liblinear') \n",
    "lr_balanced = LogisticRegression(class_weight='balanced', solver='liblinear')\n",
    "lr_4x = LogisticRegression(class_weight={0 : 1, 1 : 9}, solver='liblinear')\n",
    "\n",
    "lr_weight.fit(X_train_new, y_train_new)\n",
    "print('Normal Logistic Regression Test F1: %.3f, Test AUC: %.3f' % \\\n",
    "      (f1_score(y_test, lr_weight.predict(X_test)), roc_auc_score(y_test, lr_weight.predict_proba(X_test)[:,1])))\n",
    "\n",
    "lr_balanced.fit(X_train_new, y_train_new)\n",
    "print('Balanced class weights Logistic Regression Test F1: %.3f, Test AUC: %.3f' % \\\n",
    "      (f1_score(y_test, lr_balanced.predict(X_test)), roc_auc_score(y_test, lr_balanced.predict_proba(X_test)[:,1])))\n",
    "\n",
    "lr_4x.fit(X_train_new, y_train_new)\n",
    "print('9:1 class weights Logistic Regression Test F1: %.3f, Test AUC: %.3f' % \\\n",
    "      (f1_score(y_test, lr_4x.predict(X_test)), roc_auc_score(y_test, lr_4x.predict_proba(X_test)[:,1])))"
   ]
  },
  {
   "cell_type": "code",
   "execution_count": 66,
   "id": "fb149af3",
   "metadata": {},
   "outputs": [
    {
     "name": "stdout",
     "output_type": "stream",
     "text": [
      "Logistic Regression Model best F1 score 0.489 at prob decision threshold >= 0.771\n"
     ]
    },
    {
     "data": {
      "image/png": "[encoded data removed]",
      "text/plain": [
       "<Figure size 432x288 with 1 Axes>"
      ]
     },
     "metadata": {},
     "output_type": "display_data"
    }
   ],
   "source": [
    "import imblearn.over_sampling\n",
    "\n",
    "from sklearn.metrics import precision_score, recall_score, accuracy_score\n",
    "\n",
    "import matplotlib.pyplot as plt\n",
    "%matplotlib inline\n",
    "import seaborn as sns\n",
    "sns.set()\n",
    "\n",
    "X_val, y_val = X_test, y_test\n",
    "\n",
    "thresh_ps = np.linspace(.10,.80,1000)\n",
    "model_val_probs = lr_weight.predict_proba(X_val)[:,1] # positive class probabilities \n",
    "\n",
    "f1_scores, prec_scores, rec_scores, acc_scores = [], [], [], []\n",
    "for p in thresh_ps:\n",
    "    model_val_labels = model_val_probs >= p\n",
    "    f1_scores.append(f1_score(y_val, model_val_labels))    \n",
    "    prec_scores.append(precision_score(y_val, model_val_labels))\n",
    "    rec_scores.append(recall_score(y_val, model_val_labels))\n",
    "    acc_scores.append(accuracy_score(y_val, model_val_labels))\n",
    "    \n",
    "plt.plot(thresh_ps, f1_scores)\n",
    "plt.plot(thresh_ps, prec_scores)\n",
    "plt.plot(thresh_ps, rec_scores)\n",
    "plt.plot(thresh_ps, acc_scores)\n",
    "\n",
    "plt.title('Metric Scores vs. Positive Class Decision Probability Threshold')\n",
    "plt.legend(['F1','Precision','Recall','Accuracy'], bbox_to_anchor=(1.05, 0), loc='lower left')\n",
    "plt.xlabel('P threshold')\n",
    "plt.ylabel('Metric score')\n",
    "\n",
    "best_f1_score = np.max(f1_scores) \n",
    "best_thresh_p = thresh_ps[np.argmax(f1_scores)]\n",
    "\n",
    "print('Logistic Regression Model best F1 score %.3f at prob decision threshold >= %.3f' \n",
    "      % (best_f1_score, best_thresh_p))"
   ]
  },
  {
   "cell_type": "markdown",
   "id": "2d66dcc1",
   "metadata": {},
   "source": [
    "### 2. KNN after SMOTE:"
   ]
  },
  {
   "cell_type": "code",
   "execution_count": 67,
   "id": "22630f8c",
   "metadata": {},
   "outputs": [
    {
     "name": "stdout",
     "output_type": "stream",
     "text": [
      "Confusion Matrix - Training Dataset\n",
      "Predicted      0      1    All\n",
      "True                          \n",
      "0          19090   2263  21353\n",
      "1            455  20898  21353\n",
      "All        19545  23161  42706\n",
      "Accuracy score for Training Dataset =  0.9363555472298974\n",
      "Accuracy score for Testing Dataset =  0.7746172508993558\n",
      "KNN F1 score=  36.87910028116213\n"
     ]
    }
   ],
   "source": [
    "knn_SMOTE = KNeighborsClassifier(n_neighbors = 3)\n",
    "knn_SMOTE.fit(X_train_new, y_train_new)\n",
    "train_pred_knn = knn_SMOTE.predict(X_train_new)\n",
    "test_pred_knn = knn_SMOTE.predict(X_test)\n",
    "print('Confusion Matrix - Training Dataset')\n",
    "print(pd.crosstab(y_train_new, train_pred_knn, rownames = ['True'], colnames = ['Predicted'], margins = True))\n",
    "print('Accuracy score for Training Dataset = ', accuracy_score(train_pred_knn, y_train_new))\n",
    "print('Accuracy score for Testing Dataset = ', accuracy_score(test_pred_knn, y_test))\n",
    "f1_score = metrics.f1_score(y_test,test_pred_knn)\n",
    "print ('KNN F1 score= ',f1_score * 100)"
   ]
  },
  {
   "cell_type": "code",
   "execution_count": 68,
   "id": "7c51b674",
   "metadata": {},
   "outputs": [
    {
     "data": {
      "text/plain": [
       "0.6769541910234521"
      ]
     },
     "execution_count": 68,
     "metadata": {},
     "output_type": "execute_result"
    }
   ],
   "source": [
    "AUC_knn=roc_auc_score(y_test,test_pred_knn)\n",
    "AUC_knn"
   ]
  },
  {
   "cell_type": "markdown",
   "id": "de7d2445",
   "metadata": {},
   "source": [
    "### Best KNN parameter:"
   ]
  },
  {
   "cell_type": "code",
   "execution_count": 69,
   "id": "3faace6c",
   "metadata": {
    "scrolled": true
   },
   "outputs": [
    {
     "name": "stdout",
     "output_type": "stream",
     "text": [
      "Confusion Matrix - Training Dataset\n",
      "Predicted      0      1    All\n",
      "True                          \n",
      "0          19090   2263  21353\n",
      "1            455  20898  21353\n",
      "All        19545  23161  42706\n",
      "Accuracy score for Training Dataset =  88.7978270032314\n",
      "Accuracy score for Testing Dataset =  74.66744750271899\n",
      "KNN F1 score=  36.67921371810958\n"
     ]
    }
   ],
   "source": [
    "knn_SMOTE2 = KNeighborsClassifier(n_neighbors = 7)\n",
    "knn_SMOTE2.fit(X_train_new, y_train_new)\n",
    "train_pred_knn2 = knn_SMOTE2.predict(X_train_new)\n",
    "test_pred_knn2 = knn_SMOTE2.predict(X_test)\n",
    "print('Confusion Matrix - Training Dataset')\n",
    "print(pd.crosstab(y_train_new, train_pred_knn, rownames = ['True'], colnames = ['Predicted'], margins = True))\n",
    "print('Accuracy score for Training Dataset = ', accuracy_score(train_pred_knn2, y_train_new)*100)\n",
    "print('Accuracy score for Testing Dataset = ', accuracy_score(test_pred_knn2, y_test)*100)\n",
    "f1_score = metrics.f1_score(y_test,test_pred_knn2)\n",
    "print ('KNN F1 score= ',f1_score * 100)"
   ]
  },
  {
   "cell_type": "code",
   "execution_count": 70,
   "id": "610b3263",
   "metadata": {},
   "outputs": [
    {
     "data": {
      "text/plain": [
       "0.688157152861562"
      ]
     },
     "execution_count": 70,
     "metadata": {},
     "output_type": "execute_result"
    }
   ],
   "source": [
    "AUC_knn2=roc_auc_score(y_test,test_pred_knn2)\n",
    "AUC_knn2"
   ]
  },
  {
   "cell_type": "code",
   "execution_count": 71,
   "id": "d68f00f8",
   "metadata": {},
   "outputs": [
    {
     "data": {
      "text/plain": [
       "DecisionTreeClassifier()"
      ]
     },
     "execution_count": 71,
     "metadata": {},
     "output_type": "execute_result"
    }
   ],
   "source": [
    "dtree_SMOTE = DecisionTreeClassifier()\n",
    "dtree_SMOTE.fit(X_train_new, y_train_new)"
   ]
  },
  {
   "cell_type": "code",
   "execution_count": 72,
   "id": "28411b2d",
   "metadata": {},
   "outputs": [
    {
     "name": "stdout",
     "output_type": "stream",
     "text": [
      "[[9341 1177]\n",
      " [ 871  564]]\n",
      "Decision Tree Accuracy =  82.86622605203715\n",
      "Decision Tree Precision =  32.39517518667432\n",
      "Decision Tree Recall =  39.30313588850174\n",
      "Decision Tree F1 score=  35.51637279596977\n"
     ]
    }
   ],
   "source": [
    "y_pred_dtree = dtree_SMOTE.predict(X_test)\n",
    "#confusion matrix on DT\n",
    "cf_matrix = metrics.confusion_matrix(y_test, y_pred_dtree)\n",
    "print(cf_matrix)\n",
    "#accuracy on DT\n",
    "accuracy = metrics.accuracy_score(y_test,y_pred_dtree)\n",
    "print ('Decision Tree Accuracy = ', accuracy * 100)\n",
    "#precision on DT\n",
    "Precision = metrics.precision_score(y_test,y_pred_dtree)\n",
    "print ('Decision Tree Precision = ', Precision*100)\n",
    "#Recall on DT\n",
    "Recall = metrics.recall_score(y_test,y_pred_dtree)\n",
    "print ('Decision Tree Recall = ', Recall*100)\n",
    "#F1 score on DT\n",
    "f1_score = metrics.f1_score(y_test,y_pred_dtree)\n",
    "print ('Decision Tree F1 score= ',f1_score * 100)"
   ]
  },
  {
   "cell_type": "code",
   "execution_count": 73,
   "id": "8a669c72",
   "metadata": {},
   "outputs": [
    {
     "data": {
      "text/plain": [
       "0.6405639775980515"
      ]
     },
     "execution_count": 73,
     "metadata": {},
     "output_type": "execute_result"
    }
   ],
   "source": [
    "AUC_dtree_SMOTE=roc_auc_score(y_test,y_pred_dtree)\n",
    "AUC_dtree_SMOTE"
   ]
  },
  {
   "cell_type": "code",
   "execution_count": 74,
   "id": "9d8a3010",
   "metadata": {},
   "outputs": [
    {
     "data": {
      "text/plain": [
       "RandomForestClassifier(n_estimators=500)"
      ]
     },
     "execution_count": 74,
     "metadata": {},
     "output_type": "execute_result"
    }
   ],
   "source": [
    "rf_SMOTE = RandomForestClassifier(n_estimators= 500)\n",
    "rf_SMOTE.fit(X_train_new, y_train_new)"
   ]
  },
  {
   "cell_type": "code",
   "execution_count": 75,
   "id": "6ab393fa",
   "metadata": {},
   "outputs": [
    {
     "name": "stdout",
     "output_type": "stream",
     "text": [
      "[[9953  565]\n",
      " [ 830  605]]\n",
      "Random Forest Accuracy =  88.32928971806241\n",
      "Random Forest Precision =  51.70940170940172\n",
      "Random Forest Recall =  42.1602787456446\n",
      "Random Forest F1 score=  46.449136276391556\n"
     ]
    }
   ],
   "source": [
    "y_pred_rf = rf_SMOTE.predict(X_test)\n",
    "#confusion matrix on RF\n",
    "cf_matrix = metrics.confusion_matrix(y_test, y_pred_rf)\n",
    "print(cf_matrix)\n",
    "#accuracy on RF\n",
    "accuracy = metrics.accuracy_score(y_test,y_pred_rf)\n",
    "print ('Random Forest Accuracy = ', accuracy * 100)\n",
    "#precision on RF\n",
    "Precision = metrics.precision_score(y_test,y_pred_rf)\n",
    "print ('Random Forest Precision = ', Precision*100)\n",
    "#Recall on RF\n",
    "Recall = metrics.recall_score(y_test,y_pred_rf)\n",
    "print ('Random Forest Recall = ', Recall*100)\n",
    "#F1 score on RF\n",
    "f1_score = metrics.f1_score(y_test,y_pred_rf)\n",
    "print ('Random Forest F1 score= ',f1_score * 100)"
   ]
  },
  {
   "cell_type": "code",
   "execution_count": 76,
   "id": "b0ba844c",
   "metadata": {},
   "outputs": [
    {
     "data": {
      "text/plain": [
       "0.6839426753406969"
      ]
     },
     "execution_count": 76,
     "metadata": {},
     "output_type": "execute_result"
    }
   ],
   "source": [
    "AUC_rf_SMOTE=roc_auc_score(y_test,y_pred_rf)\n",
    "AUC_rf_SMOTE"
   ]
  },
  {
   "cell_type": "markdown",
   "id": "828b5290",
   "metadata": {},
   "source": [
    "### Ensemble Method"
   ]
  },
  {
   "cell_type": "markdown",
   "id": "5569c17e",
   "metadata": {},
   "source": [
    "### 3. Adaboosting:"
   ]
  },
  {
   "cell_type": "code",
   "execution_count": 77,
   "id": "63c22b25",
   "metadata": {},
   "outputs": [
    {
     "data": {
      "text/plain": [
       "AdaBoostClassifier()"
      ]
     },
     "execution_count": 77,
     "metadata": {},
     "output_type": "execute_result"
    }
   ],
   "source": [
    "from sklearn import ensemble\n",
    "\n",
    "ada_SMOTE= ensemble.AdaBoostClassifier()\n",
    "ada_SMOTE.fit(X_train_new, y_train_new)"
   ]
  },
  {
   "cell_type": "code",
   "execution_count": 78,
   "id": "a00d38c8",
   "metadata": {},
   "outputs": [
    {
     "name": "stdout",
     "output_type": "stream",
     "text": [
      "Confusion Matrix - Training Dataset\n",
      "Predicted      0      1    All\n",
      "True                          \n",
      "0          15896   5457  21353\n",
      "1           4183  17170  21353\n",
      "All        20079  22627  42706\n",
      "Accuracy score for Training Dataset =  77.42705942958835\n",
      "Accuracy score for Testing Dataset =  73.5714883292897\n",
      "AdaBoost F1 score=  38.14372429998041\n"
     ]
    }
   ],
   "source": [
    "train_pred_ada = ada_SMOTE.predict(X_train_new)\n",
    "test_pred_ada = ada_SMOTE.predict(X_test)\n",
    "print('Confusion Matrix - Training Dataset')\n",
    "print(pd.crosstab(y_train_new, train_pred_ada, rownames = ['True'], colnames = ['Predicted'], margins = True))\n",
    "print('Accuracy score for Training Dataset = ', accuracy_score(train_pred_ada, y_train_new)*100)\n",
    "print('Accuracy score for Testing Dataset = ', accuracy_score(test_pred_ada, y_test)*100)\n",
    "f1_score = metrics.f1_score(y_test,test_pred_ada)\n",
    "print ('AdaBoost F1 score= ',f1_score * 100)"
   ]
  },
  {
   "cell_type": "code",
   "execution_count": 79,
   "id": "d4640b83",
   "metadata": {},
   "outputs": [
    {
     "data": {
      "text/plain": [
       "0.7111164998048806"
      ]
     },
     "execution_count": 79,
     "metadata": {},
     "output_type": "execute_result"
    }
   ],
   "source": [
    "AUC_ada=roc_auc_score(y_test,test_pred_ada)\n",
    "AUC_ada"
   ]
  },
  {
   "cell_type": "markdown",
   "id": "9964d83c",
   "metadata": {},
   "source": [
    "### 4. Experimenting Stacking:"
   ]
  },
  {
   "cell_type": "code",
   "execution_count": 80,
   "id": "e392d5ac",
   "metadata": {},
   "outputs": [],
   "source": [
    "import os\n",
    "import pickle"
   ]
  },
  {
   "cell_type": "code",
   "execution_count": 81,
   "id": "a18066d2",
   "metadata": {},
   "outputs": [],
   "source": [
    "# instantiate 4 models\n",
    "lr_model = linear_model.LogisticRegression(solver=\"lbfgs\", random_state=1)\n",
    "knn_model = neighbors.KNeighborsClassifier()\n",
    "rf_model = ensemble.RandomForestClassifier(n_estimators=100, random_state=1)\n",
    "et_model = ensemble.ExtraTreesClassifier(n_estimators=100, random_state=1)\n",
    "\n",
    "models = [\"lr_model\", \"knn_model\", \"rf_model\", \"et_model\"]"
   ]
  },
  {
   "cell_type": "code",
   "execution_count": 82,
   "id": "c70adacd",
   "metadata": {},
   "outputs": [],
   "source": [
    "#os.mkdir('models')"
   ]
  },
  {
   "cell_type": "code",
   "execution_count": 83,
   "id": "aa51804d",
   "metadata": {},
   "outputs": [],
   "source": [
    "for model_name in models:\n",
    "    \n",
    "    curr_model = eval(model_name)\n",
    "    \n",
    "    curr_model.fit(X_train_new, y_train_new)\n",
    "    \n",
    "    with open(f\"models/{model_name}.pickle\", \"wb\") as pfile:\n",
    "        pickle.dump(curr_model, pfile)"
   ]
  },
  {
   "cell_type": "code",
   "execution_count": 84,
   "id": "2964c9ce",
   "metadata": {},
   "outputs": [],
   "source": [
    "#pip install mlxtend"
   ]
  },
  {
   "cell_type": "code",
   "execution_count": 85,
   "id": "db43685a",
   "metadata": {},
   "outputs": [],
   "source": [
    "from mlxtend.classifier import StackingClassifier # <-- note: this is not from sklearn!\n",
    "\n",
    "sns.set_style(\"whitegrid\")"
   ]
  },
  {
   "cell_type": "code",
   "execution_count": 86,
   "id": "bea880fd",
   "metadata": {},
   "outputs": [],
   "source": [
    "model_names = [\"lr_model\", \"knn_model\", \"rf_model\", \"et_model\"]\n",
    "\n",
    "for model_name in model_names:\n",
    "    with open(f\"models/{model_name}.pickle\", \"rb\") as pfile:\n",
    "        exec(f\"{model_name} = pickle.load(pfile)\")\n",
    "\n",
    "model_vars = [eval(n) for n in model_names]\n",
    "model_list = list(zip(model_names, model_vars))"
   ]
  },
  {
   "cell_type": "code",
   "execution_count": 87,
   "id": "a01e3fc4",
   "metadata": {},
   "outputs": [
    {
     "data": {
      "text/plain": [
       "[LogisticRegression(random_state=1),\n",
       " KNeighborsClassifier(),\n",
       " RandomForestClassifier(random_state=1),\n",
       " ExtraTreesClassifier(random_state=1)]"
      ]
     },
     "execution_count": 87,
     "metadata": {},
     "output_type": "execute_result"
    }
   ],
   "source": [
    "model_vars"
   ]
  },
  {
   "cell_type": "code",
   "execution_count": 88,
   "id": "b85876ac",
   "metadata": {},
   "outputs": [
    {
     "data": {
      "text/plain": [
       "[('lr_model', LogisticRegression(random_state=1)),\n",
       " ('knn_model', KNeighborsClassifier()),\n",
       " ('rf_model', RandomForestClassifier(random_state=1)),\n",
       " ('et_model', ExtraTreesClassifier(random_state=1))]"
      ]
     },
     "execution_count": 88,
     "metadata": {},
     "output_type": "execute_result"
    }
   ],
   "source": [
    "model_list"
   ]
  },
  {
   "cell_type": "code",
   "execution_count": 89,
   "id": "39b3d799",
   "metadata": {},
   "outputs": [
    {
     "name": "stdout",
     "output_type": "stream",
     "text": [
      "lr_model score: 74.98535932401907\n",
      "F1 score:  38.729508196721305\n",
      "AUC:  71.04244060124572\n",
      "knn_model score: 75.6044507654982\n",
      "F1 score:  36.442894507410635\n",
      "AUC:  68.11446844400805\n",
      "rf_model score: 87.98627959508073\n",
      "F1 score:  45.48215641609719\n",
      "AUC:  68.01882685928156\n",
      "et_model score: 87.23333054463315\n",
      "F1 score:  45.028818443804035\n",
      "AUC:  68.3733145700783\n"
     ]
    }
   ],
   "source": [
    "\n",
    "for model_name in model_names:\n",
    "    curr_model = eval(model_name)\n",
    "    print(f'{model_name} score: {curr_model.score(X_test, y_test)*100}')\n",
    "    y_pred_ensample = curr_model.predict(X_test)\n",
    "    f1_score = metrics.f1_score(y_test,y_pred_ensample)\n",
    "    print('F1 score: ',f1_score * 100)\n",
    "    AUC_stac=roc_auc_score(y_test,y_pred_ensample)\n",
    "    print('AUC: ',AUC_stac * 100)"
   ]
  },
  {
   "cell_type": "markdown",
   "id": "1095388c",
   "metadata": {},
   "source": [
    "### 5. Gradiant Boosting"
   ]
  },
  {
   "cell_type": "code",
   "execution_count": 90,
   "id": "db518afa",
   "metadata": {},
   "outputs": [],
   "source": [
    "gb = GradientBoostingClassifier(n_estimators=24,\n",
    "                               max_depth=3,\n",
    "                               learning_rate=.71)\n",
    "gb.fit(X_train_new, y_train_new)\n",
    "y_pred = gb.predict(X_test)"
   ]
  },
  {
   "cell_type": "code",
   "execution_count": 91,
   "id": "adf4b876",
   "metadata": {},
   "outputs": [
    {
     "name": "stdout",
     "output_type": "stream",
     "text": [
      "[[9885  633]\n",
      " [ 804  631]]\n",
      "0.46758058540200076\n"
     ]
    },
    {
     "data": {
      "text/plain": [
       "0.6897693550727375"
      ]
     },
     "execution_count": 91,
     "metadata": {},
     "output_type": "execute_result"
    }
   ],
   "source": [
    "cf_matrix = metrics.confusion_matrix(y_test, y_pred)\n",
    "print(cf_matrix)\n",
    "print(metrics.f1_score(y_test, y_pred))\n",
    "AUC_gb=roc_auc_score(y_test, y_pred)\n",
    "AUC_gb"
   ]
  },
  {
   "cell_type": "markdown",
   "id": "f1ee0b43",
   "metadata": {},
   "source": [
    "### 6. Naive Bayes"
   ]
  },
  {
   "cell_type": "code",
   "execution_count": 92,
   "id": "e7b97d66",
   "metadata": {},
   "outputs": [],
   "source": [
    "from sklearn.naive_bayes import GaussianNB"
   ]
  },
  {
   "cell_type": "code",
   "execution_count": 93,
   "id": "52f5ab34",
   "metadata": {},
   "outputs": [],
   "source": [
    "Gauss= GaussianNB()\n",
    "Gauss.fit(X_train_new, y_train_new)\n",
    "Gauss_pred = Gauss.predict(X_test)\n"
   ]
  },
  {
   "cell_type": "code",
   "execution_count": 94,
   "id": "0b3964c0",
   "metadata": {},
   "outputs": [
    {
     "name": "stdout",
     "output_type": "stream",
     "text": [
      "Confusion Matrix \n",
      "Predicted     0     1    All\n",
      "True                        \n",
      "0          6210  4308  10518\n",
      "1           399  1036   1435\n",
      "All        6609  5344  11953\n",
      "Accuracy score  =  60.62076466159123\n",
      "AdaBoost F1 score=  30.564980085558346\n"
     ]
    }
   ],
   "source": [
    "print('Confusion Matrix ')\n",
    "print(pd.crosstab(y_test, Gauss_pred, rownames = ['True'], colnames = ['Predicted'], margins = True))\n",
    "print('Accuracy score  = ', accuracy_score(y_test,Gauss_pred)*100)\n",
    "f1_score = metrics.f1_score(y_test,Gauss_pred)\n",
    "print ('AdaBoost F1 score= ',f1_score * 100)"
   ]
  },
  {
   "cell_type": "code",
   "execution_count": 95,
   "id": "43907969",
   "metadata": {},
   "outputs": [
    {
     "data": {
      "text/plain": [
       "0.6561838242455442"
      ]
     },
     "execution_count": 95,
     "metadata": {},
     "output_type": "execute_result"
    }
   ],
   "source": [
    "AUC_Gauss=roc_auc_score(y_test,Gauss_pred)\n",
    "AUC_Gauss"
   ]
  },
  {
   "cell_type": "markdown",
   "id": "33d0390f",
   "metadata": {},
   "source": [
    "### Comparing performance of all modules"
   ]
  },
  {
   "cell_type": "code",
   "execution_count": 96,
   "id": "72893147",
   "metadata": {},
   "outputs": [],
   "source": [
    "from sklearn.metrics import roc_curve"
   ]
  },
  {
   "cell_type": "code",
   "execution_count": 100,
   "id": "ee5f290a",
   "metadata": {},
   "outputs": [
    {
     "data": {
      "image/png": "[encoded data removed]",
      "text/plain": [
       "<Figure size 720x576 with 1 Axes>"
      ]
     },
     "metadata": {},
     "output_type": "display_data"
    }
   ],
   "source": [
    "fig, ax = plt.subplots(figsize=(10,8))\n",
    "# KNN\n",
    "knn_probs = knn_SMOTE.predict_proba(X_test)[:, 1]\n",
    "# LR\n",
    "lr_probs = lr_4x.predict_proba(X_test)[:, 1]\n",
    "# tree\n",
    "dtree_probs = dtree_SMOTE.predict_proba(X_test)[:, 1]\n",
    "# RF\n",
    "rf_probs = rf_SMOTE.predict_proba(X_test)[:, 1]\n",
    "# Adaboosting\n",
    "ada_probs = ada_SMOTE.predict_proba(X_test)[:, 1]\n",
    "# GB\n",
    "Gb_probs = gb.predict_proba(X_test)[:, 1]\n",
    "# NB\n",
    "NB_probs = Gauss.predict_proba(X_test)[:, 1]\n",
    "# plot baseline roc curve\n",
    "plt.plot([0, 1], [0, 1], linestyle='--', label='Baseline')\n",
    "# calculate roc curve for model\n",
    "fpr1, tpr1, _ = roc_curve(y_test, knn_probs)\n",
    "fpr2, tpr2, _ = roc_curve(y_test, lr_probs )\n",
    "fpr3, tpr3, _ = roc_curve(y_test, dtree_probs)\n",
    "fpr4, tpr4, _ = roc_curve(y_test, rf_probs )\n",
    "fpr5, tpr5, _ = roc_curve(y_test, ada_probs)\n",
    "fpr6, tpr6, _ = roc_curve(y_test, Gb_probs)\n",
    "fpr7, tpr7, _ = roc_curve(y_test, NB_probs)\n",
    "auc1 = round(100*(roc_auc_score(y_test, knn_probs)), 3)\n",
    "auc2 = round(100*(roc_auc_score(y_test,lr_probs)), 3)\n",
    "auc3 = round(100*(roc_auc_score(y_test,dtree_probs)), 3)\n",
    "auc4 = round(100*(roc_auc_score(y_test, rf_probs)), 3)\n",
    "auc5 = round(100*(roc_auc_score(y_test, ada_probs)), 3)\n",
    "auc6 = round(100*(roc_auc_score(y_test, Gb_probs)), 3)\n",
    "auc7 = round(100*(roc_auc_score(y_test, NB_probs)), 3)\n",
    "# plot model roc curve\n",
    "plt.plot(fpr1, tpr1, linestyle='-', label=f'KNN, AUC: {auc1}')\n",
    "plt.plot(fpr2, tpr2, linestyle='-', label=f'Logistic Regression, AUC: {auc2}')\n",
    "plt.plot(fpr3, tpr3, linestyle='-', label=f'Decision Tree, AUC: {auc3}')\n",
    "plt.plot(fpr4, tpr4, linestyle='-', label=f'Random Forest, AUC: {auc4}')\n",
    "plt.plot(fpr5, tpr5, linestyle='-', label=f'Adaboosting, AUC: {auc5}')\n",
    "plt.plot(fpr6, tpr6, linestyle='-', label=f'Gradient Boosting, AUC: {auc6}')\n",
    "plt.plot(fpr7, tpr7, linestyle='-', label=f'GaussianNB, AUC: {auc7}')\n",
    "# axis labels\n",
    "plt.xlabel('‘False Positive Rate’')\n",
    "plt.ylabel('‘True Positive Rate’')\n",
    "# show the legend\n",
    "plt.legend()\n",
    "# show the plot\n",
    "plt.show()"
   ]
  },
  {
   "cell_type": "code",
   "execution_count": null,
   "id": "7fae5252",
   "metadata": {},
   "outputs": [],
   "source": []
  }
 ],
 "metadata": {
  "kernelspec": {
   "display_name": "Python 3 (ipykernel)",
   "language": "python",
   "name": "python3"
  },
  "language_info": {
   "codemirror_mode": {
    "name": "ipython",
    "version": 3
   },
   "file_extension": ".py",
   "mimetype": "text/x-python",
   "name": "python",
   "nbconvert_exporter": "python",
   "pygments_lexer": "ipython3",
   "version": "3.8.12"
  }
 },
 "nbformat": 4,
 "nbformat_minor": 5
}
